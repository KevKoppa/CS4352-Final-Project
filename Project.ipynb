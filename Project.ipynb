{
 "cells": [
  {
   "cell_type": "code",
   "execution_count": 1,
   "id": "4b86ce61652ed756",
   "metadata": {
    "collapsed": false,
    "ExecuteTime": {
     "end_time": "2023-12-03T22:34:00.649411Z",
     "start_time": "2023-12-03T22:33:58.580247Z"
    }
   },
   "outputs": [],
   "source": [
    "import networkx as nx\n",
    "import pickle\n",
    "import matplotlib.pyplot as plt\n",
    "import random\n",
    "from collections import defaultdict\n",
    "import numpy as np\n",
    "import torch\n",
    "import torch.nn as nn\n",
    "import torch.optim as optim\n",
    "import torch.nn.functional as F\n",
    "from sklearn.model_selection import train_test_split\n",
    "from torch_geometric.nn import GCNConv"
   ]
  },
  {
   "cell_type": "code",
   "execution_count": 2,
   "id": "b4af407c3f780f9d",
   "metadata": {
    "collapsed": false,
    "ExecuteTime": {
     "end_time": "2023-12-03T22:34:25.072225Z",
     "start_time": "2023-12-03T22:34:15.000517Z"
    }
   },
   "outputs": [],
   "source": [
    "# importing all following data and putting in a graph\n",
    "pkl_file = open('Unfollower/15weeks_friend_dict.pkl', 'rb')\n",
    "mydict2 = pickle.load(pkl_file)\n",
    "pkl_file.close()\n",
    "\n",
    "week = 0\n",
    "for key, values in mydict2.items():\n",
    "    if len(values[week]) == 0:\n",
    "        mydict2[key] = []\n",
    "        continue\n",
    "    new = values[week][1]\n",
    "    mydict2[key] = new\n",
    "\n",
    "# mydict2 has format:\n",
    "# user_id: [following_user_id1, following_user_id2...]"
   ]
  },
  {
   "cell_type": "code",
   "execution_count": 3,
   "id": "f90ee72edadb771",
   "metadata": {
    "collapsed": false,
    "ExecuteTime": {
     "end_time": "2023-12-03T22:34:28.257944Z",
     "start_time": "2023-12-03T22:34:28.209722Z"
    }
   },
   "outputs": [
    {
     "name": "stdout",
     "output_type": "stream",
     "text": [
      "118640\n",
      "971\n"
     ]
    }
   ],
   "source": [
    "# forrest fire sampling implementation and use \n",
    "def forest_fire_sampling(graph_dict, initial_burn_probability, secondary_burn_probability, max_samples=None):\n",
    "    # Choose a random start node\n",
    "    random.seed(947)\n",
    "    start_node = random.choice(list(graph_dict.keys()))\n",
    "    \n",
    "    # Force starting node to have at least 100 friends \n",
    "    if len(graph_dict[start_node]) < 100:\n",
    "        start_node = random.choice(list(graph_dict.keys()))\n",
    "    sampled_nodes = set([start_node])\n",
    "    burning_nodes = set([start_node])\n",
    "    \n",
    "    while burning_nodes:\n",
    "        new_burning_nodes = set()\n",
    "        for node in burning_nodes:\n",
    "            # For each neighbor, decide if it catches fire based on the burn probability\n",
    "            for neighbor in graph_dict[node]:\n",
    "                if neighbor not in sampled_nodes:\n",
    "                    if random.random() < (initial_burn_probability if node == start_node else secondary_burn_probability):\n",
    "                        new_burning_nodes.add(neighbor)\n",
    "                        sampled_nodes.add(neighbor)\n",
    "                        if max_samples and len(sampled_nodes) >= max_samples:\n",
    "                            return sampled_nodes\n",
    "        burning_nodes = new_burning_nodes\n",
    "\n",
    "    return sampled_nodes\n",
    "\n",
    "# sampling has undeterministic results where sample may have few nodes or many nodes depending on whether random starting node has many or few neighbors. We may want to force the starting node to have more than 10 friends. \n",
    "\n",
    "sample = forest_fire_sampling(mydict2, 0.2, 0.1, max_samples=1000)\n",
    "shortened_dict = defaultdict(list)\n",
    "print(len(mydict2))\n",
    "for k in mydict2:\n",
    "    if k in sample: \n",
    "        for v in mydict2[k]:\n",
    "            if v in sample: \n",
    "                shortened_dict[k].append(v)\n",
    "\n",
    "print(len(shortened_dict))"
   ]
  },
  {
   "cell_type": "code",
   "execution_count": 4,
   "id": "1b8979b3863b5b9b",
   "metadata": {
    "collapsed": false,
    "ExecuteTime": {
     "end_time": "2023-12-03T22:34:36.186144Z",
     "start_time": "2023-12-03T22:34:36.126910Z"
    }
   },
   "outputs": [
    {
     "name": "stdout",
     "output_type": "stream",
     "text": [
      "1000\n"
     ]
    }
   ],
   "source": [
    "# Creating sample graph and drawing it \n",
    "subset_followers_graph = nx.DiGraph()\n",
    "for k, v in shortened_dict.items():\n",
    "    for neighbor in v:\n",
    "        subset_followers_graph.add_edge(k, neighbor)\n",
    "\n",
    "print(subset_followers_graph.number_of_nodes())"
   ]
  },
  {
   "cell_type": "code",
   "execution_count": 5,
   "outputs": [
    {
     "name": "stderr",
     "output_type": "stream",
     "text": [
      "*c* argument looks like a single numeric RGB or RGBA sequence, which should be avoided as value-mapping will have precedence in case its length matches with *x* & *y*.  Please use the *color* keyword-argument or provide a 2D array with a single row if you intend to specify the same RGB or RGBA value for all points.\n"
     ]
    },
    {
     "ename": "KeyboardInterrupt",
     "evalue": "",
     "output_type": "error",
     "traceback": [
      "\u001B[0;31m---------------------------------------------------------------------------\u001B[0m",
      "\u001B[0;31mKeyboardInterrupt\u001B[0m                         Traceback (most recent call last)",
      "\u001B[0;32m/var/folders/rk/x8250c_j4xv6115z61pg874c0000gn/T/ipykernel_28202/3157542041.py\u001B[0m in \u001B[0;36m<module>\u001B[0;34m\u001B[0m\n\u001B[1;32m      3\u001B[0m \u001B[0;34m\u001B[0m\u001B[0m\n\u001B[1;32m      4\u001B[0m \u001B[0;31m# Display the graph\u001B[0m\u001B[0;34m\u001B[0m\u001B[0;34m\u001B[0m\u001B[0;34m\u001B[0m\u001B[0m\n\u001B[0;32m----> 5\u001B[0;31m \u001B[0mplt\u001B[0m\u001B[0;34m.\u001B[0m\u001B[0mshow\u001B[0m\u001B[0;34m(\u001B[0m\u001B[0;34m)\u001B[0m\u001B[0;34m\u001B[0m\u001B[0;34m\u001B[0m\u001B[0m\n\u001B[0m",
      "\u001B[0;32m~/anaconda3/envs/py37/lib/python3.7/site-packages/matplotlib/pyplot.py\u001B[0m in \u001B[0;36mshow\u001B[0;34m(*args, **kwargs)\u001B[0m\n\u001B[1;32m    385\u001B[0m     \"\"\"\n\u001B[1;32m    386\u001B[0m     \u001B[0m_warn_if_gui_out_of_main_thread\u001B[0m\u001B[0;34m(\u001B[0m\u001B[0;34m)\u001B[0m\u001B[0;34m\u001B[0m\u001B[0;34m\u001B[0m\u001B[0m\n\u001B[0;32m--> 387\u001B[0;31m     \u001B[0;32mreturn\u001B[0m \u001B[0m_get_backend_mod\u001B[0m\u001B[0;34m(\u001B[0m\u001B[0;34m)\u001B[0m\u001B[0;34m.\u001B[0m\u001B[0mshow\u001B[0m\u001B[0;34m(\u001B[0m\u001B[0;34m*\u001B[0m\u001B[0margs\u001B[0m\u001B[0;34m,\u001B[0m \u001B[0;34m**\u001B[0m\u001B[0mkwargs\u001B[0m\u001B[0;34m)\u001B[0m\u001B[0;34m\u001B[0m\u001B[0;34m\u001B[0m\u001B[0m\n\u001B[0m\u001B[1;32m    388\u001B[0m \u001B[0;34m\u001B[0m\u001B[0m\n\u001B[1;32m    389\u001B[0m \u001B[0;34m\u001B[0m\u001B[0m\n",
      "\u001B[0;32m~/anaconda3/envs/py37/lib/python3.7/site-packages/matplotlib_inline/backend_inline.py\u001B[0m in \u001B[0;36mshow\u001B[0;34m(close, block)\u001B[0m\n\u001B[1;32m     90\u001B[0m             display(\n\u001B[1;32m     91\u001B[0m                 \u001B[0mfigure_manager\u001B[0m\u001B[0;34m.\u001B[0m\u001B[0mcanvas\u001B[0m\u001B[0;34m.\u001B[0m\u001B[0mfigure\u001B[0m\u001B[0;34m,\u001B[0m\u001B[0;34m\u001B[0m\u001B[0;34m\u001B[0m\u001B[0m\n\u001B[0;32m---> 92\u001B[0;31m                 \u001B[0mmetadata\u001B[0m\u001B[0;34m=\u001B[0m\u001B[0m_fetch_figure_metadata\u001B[0m\u001B[0;34m(\u001B[0m\u001B[0mfigure_manager\u001B[0m\u001B[0;34m.\u001B[0m\u001B[0mcanvas\u001B[0m\u001B[0;34m.\u001B[0m\u001B[0mfigure\u001B[0m\u001B[0;34m)\u001B[0m\u001B[0;34m\u001B[0m\u001B[0;34m\u001B[0m\u001B[0m\n\u001B[0m\u001B[1;32m     93\u001B[0m             )\n\u001B[1;32m     94\u001B[0m     \u001B[0;32mfinally\u001B[0m\u001B[0;34m:\u001B[0m\u001B[0;34m\u001B[0m\u001B[0;34m\u001B[0m\u001B[0m\n",
      "\u001B[0;32m~/anaconda3/envs/py37/lib/python3.7/site-packages/IPython/core/display.py\u001B[0m in \u001B[0;36mdisplay\u001B[0;34m(include, exclude, metadata, transient, display_id, *objs, **kwargs)\u001B[0m\n\u001B[1;32m    318\u001B[0m             \u001B[0mpublish_display_data\u001B[0m\u001B[0;34m(\u001B[0m\u001B[0mdata\u001B[0m\u001B[0;34m=\u001B[0m\u001B[0mobj\u001B[0m\u001B[0;34m,\u001B[0m \u001B[0mmetadata\u001B[0m\u001B[0;34m=\u001B[0m\u001B[0mmetadata\u001B[0m\u001B[0;34m,\u001B[0m \u001B[0;34m**\u001B[0m\u001B[0mkwargs\u001B[0m\u001B[0;34m)\u001B[0m\u001B[0;34m\u001B[0m\u001B[0;34m\u001B[0m\u001B[0m\n\u001B[1;32m    319\u001B[0m         \u001B[0;32melse\u001B[0m\u001B[0;34m:\u001B[0m\u001B[0;34m\u001B[0m\u001B[0;34m\u001B[0m\u001B[0m\n\u001B[0;32m--> 320\u001B[0;31m             \u001B[0mformat_dict\u001B[0m\u001B[0;34m,\u001B[0m \u001B[0mmd_dict\u001B[0m \u001B[0;34m=\u001B[0m \u001B[0mformat\u001B[0m\u001B[0;34m(\u001B[0m\u001B[0mobj\u001B[0m\u001B[0;34m,\u001B[0m \u001B[0minclude\u001B[0m\u001B[0;34m=\u001B[0m\u001B[0minclude\u001B[0m\u001B[0;34m,\u001B[0m \u001B[0mexclude\u001B[0m\u001B[0;34m=\u001B[0m\u001B[0mexclude\u001B[0m\u001B[0;34m)\u001B[0m\u001B[0;34m\u001B[0m\u001B[0;34m\u001B[0m\u001B[0m\n\u001B[0m\u001B[1;32m    321\u001B[0m             \u001B[0;32mif\u001B[0m \u001B[0;32mnot\u001B[0m \u001B[0mformat_dict\u001B[0m\u001B[0;34m:\u001B[0m\u001B[0;34m\u001B[0m\u001B[0;34m\u001B[0m\u001B[0m\n\u001B[1;32m    322\u001B[0m                 \u001B[0;31m# nothing to display (e.g. _ipython_display_ took over)\u001B[0m\u001B[0;34m\u001B[0m\u001B[0;34m\u001B[0m\u001B[0;34m\u001B[0m\u001B[0m\n",
      "\u001B[0;32m~/anaconda3/envs/py37/lib/python3.7/site-packages/IPython/core/formatters.py\u001B[0m in \u001B[0;36mformat\u001B[0;34m(self, obj, include, exclude)\u001B[0m\n\u001B[1;32m    178\u001B[0m             \u001B[0mmd\u001B[0m \u001B[0;34m=\u001B[0m \u001B[0;32mNone\u001B[0m\u001B[0;34m\u001B[0m\u001B[0;34m\u001B[0m\u001B[0m\n\u001B[1;32m    179\u001B[0m             \u001B[0;32mtry\u001B[0m\u001B[0;34m:\u001B[0m\u001B[0;34m\u001B[0m\u001B[0;34m\u001B[0m\u001B[0m\n\u001B[0;32m--> 180\u001B[0;31m                 \u001B[0mdata\u001B[0m \u001B[0;34m=\u001B[0m \u001B[0mformatter\u001B[0m\u001B[0;34m(\u001B[0m\u001B[0mobj\u001B[0m\u001B[0;34m)\u001B[0m\u001B[0;34m\u001B[0m\u001B[0;34m\u001B[0m\u001B[0m\n\u001B[0m\u001B[1;32m    181\u001B[0m             \u001B[0;32mexcept\u001B[0m\u001B[0;34m:\u001B[0m\u001B[0;34m\u001B[0m\u001B[0;34m\u001B[0m\u001B[0m\n\u001B[1;32m    182\u001B[0m                 \u001B[0;31m# FIXME: log the exception\u001B[0m\u001B[0;34m\u001B[0m\u001B[0;34m\u001B[0m\u001B[0;34m\u001B[0m\u001B[0m\n",
      "\u001B[0;32m~/anaconda3/envs/py37/lib/python3.7/site-packages/decorator.py\u001B[0m in \u001B[0;36mfun\u001B[0;34m(*args, **kw)\u001B[0m\n\u001B[1;32m    230\u001B[0m             \u001B[0;32mif\u001B[0m \u001B[0;32mnot\u001B[0m \u001B[0mkwsyntax\u001B[0m\u001B[0;34m:\u001B[0m\u001B[0;34m\u001B[0m\u001B[0;34m\u001B[0m\u001B[0m\n\u001B[1;32m    231\u001B[0m                 \u001B[0margs\u001B[0m\u001B[0;34m,\u001B[0m \u001B[0mkw\u001B[0m \u001B[0;34m=\u001B[0m \u001B[0mfix\u001B[0m\u001B[0;34m(\u001B[0m\u001B[0margs\u001B[0m\u001B[0;34m,\u001B[0m \u001B[0mkw\u001B[0m\u001B[0;34m,\u001B[0m \u001B[0msig\u001B[0m\u001B[0;34m)\u001B[0m\u001B[0;34m\u001B[0m\u001B[0;34m\u001B[0m\u001B[0m\n\u001B[0;32m--> 232\u001B[0;31m             \u001B[0;32mreturn\u001B[0m \u001B[0mcaller\u001B[0m\u001B[0;34m(\u001B[0m\u001B[0mfunc\u001B[0m\u001B[0;34m,\u001B[0m \u001B[0;34m*\u001B[0m\u001B[0;34m(\u001B[0m\u001B[0mextras\u001B[0m \u001B[0;34m+\u001B[0m \u001B[0margs\u001B[0m\u001B[0;34m)\u001B[0m\u001B[0;34m,\u001B[0m \u001B[0;34m**\u001B[0m\u001B[0mkw\u001B[0m\u001B[0;34m)\u001B[0m\u001B[0;34m\u001B[0m\u001B[0;34m\u001B[0m\u001B[0m\n\u001B[0m\u001B[1;32m    233\u001B[0m     \u001B[0mfun\u001B[0m\u001B[0;34m.\u001B[0m\u001B[0m__name__\u001B[0m \u001B[0;34m=\u001B[0m \u001B[0mfunc\u001B[0m\u001B[0;34m.\u001B[0m\u001B[0m__name__\u001B[0m\u001B[0;34m\u001B[0m\u001B[0;34m\u001B[0m\u001B[0m\n\u001B[1;32m    234\u001B[0m     \u001B[0mfun\u001B[0m\u001B[0;34m.\u001B[0m\u001B[0m__doc__\u001B[0m \u001B[0;34m=\u001B[0m \u001B[0mfunc\u001B[0m\u001B[0;34m.\u001B[0m\u001B[0m__doc__\u001B[0m\u001B[0;34m\u001B[0m\u001B[0;34m\u001B[0m\u001B[0m\n",
      "\u001B[0;32m~/anaconda3/envs/py37/lib/python3.7/site-packages/IPython/core/formatters.py\u001B[0m in \u001B[0;36mcatch_format_error\u001B[0;34m(method, self, *args, **kwargs)\u001B[0m\n\u001B[1;32m    222\u001B[0m     \u001B[0;34m\"\"\"show traceback on failed format call\"\"\"\u001B[0m\u001B[0;34m\u001B[0m\u001B[0;34m\u001B[0m\u001B[0m\n\u001B[1;32m    223\u001B[0m     \u001B[0;32mtry\u001B[0m\u001B[0;34m:\u001B[0m\u001B[0;34m\u001B[0m\u001B[0;34m\u001B[0m\u001B[0m\n\u001B[0;32m--> 224\u001B[0;31m         \u001B[0mr\u001B[0m \u001B[0;34m=\u001B[0m \u001B[0mmethod\u001B[0m\u001B[0;34m(\u001B[0m\u001B[0mself\u001B[0m\u001B[0;34m,\u001B[0m \u001B[0;34m*\u001B[0m\u001B[0margs\u001B[0m\u001B[0;34m,\u001B[0m \u001B[0;34m**\u001B[0m\u001B[0mkwargs\u001B[0m\u001B[0;34m)\u001B[0m\u001B[0;34m\u001B[0m\u001B[0;34m\u001B[0m\u001B[0m\n\u001B[0m\u001B[1;32m    225\u001B[0m     \u001B[0;32mexcept\u001B[0m \u001B[0mNotImplementedError\u001B[0m\u001B[0;34m:\u001B[0m\u001B[0;34m\u001B[0m\u001B[0;34m\u001B[0m\u001B[0m\n\u001B[1;32m    226\u001B[0m         \u001B[0;31m# don't warn on NotImplementedErrors\u001B[0m\u001B[0;34m\u001B[0m\u001B[0;34m\u001B[0m\u001B[0;34m\u001B[0m\u001B[0m\n",
      "\u001B[0;32m~/anaconda3/envs/py37/lib/python3.7/site-packages/IPython/core/formatters.py\u001B[0m in \u001B[0;36m__call__\u001B[0;34m(self, obj)\u001B[0m\n\u001B[1;32m    339\u001B[0m                 \u001B[0;32mpass\u001B[0m\u001B[0;34m\u001B[0m\u001B[0;34m\u001B[0m\u001B[0m\n\u001B[1;32m    340\u001B[0m             \u001B[0;32melse\u001B[0m\u001B[0;34m:\u001B[0m\u001B[0;34m\u001B[0m\u001B[0;34m\u001B[0m\u001B[0m\n\u001B[0;32m--> 341\u001B[0;31m                 \u001B[0;32mreturn\u001B[0m \u001B[0mprinter\u001B[0m\u001B[0;34m(\u001B[0m\u001B[0mobj\u001B[0m\u001B[0;34m)\u001B[0m\u001B[0;34m\u001B[0m\u001B[0;34m\u001B[0m\u001B[0m\n\u001B[0m\u001B[1;32m    342\u001B[0m             \u001B[0;31m# Finally look for special method names\u001B[0m\u001B[0;34m\u001B[0m\u001B[0;34m\u001B[0m\u001B[0;34m\u001B[0m\u001B[0m\n\u001B[1;32m    343\u001B[0m             \u001B[0mmethod\u001B[0m \u001B[0;34m=\u001B[0m \u001B[0mget_real_method\u001B[0m\u001B[0;34m(\u001B[0m\u001B[0mobj\u001B[0m\u001B[0;34m,\u001B[0m \u001B[0mself\u001B[0m\u001B[0;34m.\u001B[0m\u001B[0mprint_method\u001B[0m\u001B[0;34m)\u001B[0m\u001B[0;34m\u001B[0m\u001B[0;34m\u001B[0m\u001B[0m\n",
      "\u001B[0;32m~/anaconda3/envs/py37/lib/python3.7/site-packages/IPython/core/pylabtools.py\u001B[0m in \u001B[0;36mprint_figure\u001B[0;34m(fig, fmt, bbox_inches, base64, **kwargs)\u001B[0m\n\u001B[1;32m    149\u001B[0m         \u001B[0mFigureCanvasBase\u001B[0m\u001B[0;34m(\u001B[0m\u001B[0mfig\u001B[0m\u001B[0;34m)\u001B[0m\u001B[0;34m\u001B[0m\u001B[0;34m\u001B[0m\u001B[0m\n\u001B[1;32m    150\u001B[0m \u001B[0;34m\u001B[0m\u001B[0m\n\u001B[0;32m--> 151\u001B[0;31m     \u001B[0mfig\u001B[0m\u001B[0;34m.\u001B[0m\u001B[0mcanvas\u001B[0m\u001B[0;34m.\u001B[0m\u001B[0mprint_figure\u001B[0m\u001B[0;34m(\u001B[0m\u001B[0mbytes_io\u001B[0m\u001B[0;34m,\u001B[0m \u001B[0;34m**\u001B[0m\u001B[0mkw\u001B[0m\u001B[0;34m)\u001B[0m\u001B[0;34m\u001B[0m\u001B[0;34m\u001B[0m\u001B[0m\n\u001B[0m\u001B[1;32m    152\u001B[0m     \u001B[0mdata\u001B[0m \u001B[0;34m=\u001B[0m \u001B[0mbytes_io\u001B[0m\u001B[0;34m.\u001B[0m\u001B[0mgetvalue\u001B[0m\u001B[0;34m(\u001B[0m\u001B[0;34m)\u001B[0m\u001B[0;34m\u001B[0m\u001B[0;34m\u001B[0m\u001B[0m\n\u001B[1;32m    153\u001B[0m     \u001B[0;32mif\u001B[0m \u001B[0mfmt\u001B[0m \u001B[0;34m==\u001B[0m \u001B[0;34m'svg'\u001B[0m\u001B[0;34m:\u001B[0m\u001B[0;34m\u001B[0m\u001B[0;34m\u001B[0m\u001B[0m\n",
      "\u001B[0;32m~/anaconda3/envs/py37/lib/python3.7/site-packages/matplotlib/backend_bases.py\u001B[0m in \u001B[0;36mprint_figure\u001B[0;34m(self, filename, dpi, facecolor, edgecolor, orientation, format, bbox_inches, pad_inches, bbox_extra_artists, backend, **kwargs)\u001B[0m\n\u001B[1;32m   2293\u001B[0m                 )\n\u001B[1;32m   2294\u001B[0m                 \u001B[0;32mwith\u001B[0m \u001B[0mgetattr\u001B[0m\u001B[0;34m(\u001B[0m\u001B[0mrenderer\u001B[0m\u001B[0;34m,\u001B[0m \u001B[0;34m\"_draw_disabled\"\u001B[0m\u001B[0;34m,\u001B[0m \u001B[0mnullcontext\u001B[0m\u001B[0;34m)\u001B[0m\u001B[0;34m(\u001B[0m\u001B[0;34m)\u001B[0m\u001B[0;34m:\u001B[0m\u001B[0;34m\u001B[0m\u001B[0;34m\u001B[0m\u001B[0m\n\u001B[0;32m-> 2295\u001B[0;31m                     \u001B[0mself\u001B[0m\u001B[0;34m.\u001B[0m\u001B[0mfigure\u001B[0m\u001B[0;34m.\u001B[0m\u001B[0mdraw\u001B[0m\u001B[0;34m(\u001B[0m\u001B[0mrenderer\u001B[0m\u001B[0;34m)\u001B[0m\u001B[0;34m\u001B[0m\u001B[0;34m\u001B[0m\u001B[0m\n\u001B[0m\u001B[1;32m   2296\u001B[0m \u001B[0;34m\u001B[0m\u001B[0m\n\u001B[1;32m   2297\u001B[0m             \u001B[0;32mif\u001B[0m \u001B[0mbbox_inches\u001B[0m\u001B[0;34m:\u001B[0m\u001B[0;34m\u001B[0m\u001B[0;34m\u001B[0m\u001B[0m\n",
      "\u001B[0;32m~/anaconda3/envs/py37/lib/python3.7/site-packages/matplotlib/artist.py\u001B[0m in \u001B[0;36mdraw_wrapper\u001B[0;34m(artist, renderer, *args, **kwargs)\u001B[0m\n\u001B[1;32m     72\u001B[0m     \u001B[0;34m@\u001B[0m\u001B[0mwraps\u001B[0m\u001B[0;34m(\u001B[0m\u001B[0mdraw\u001B[0m\u001B[0;34m)\u001B[0m\u001B[0;34m\u001B[0m\u001B[0;34m\u001B[0m\u001B[0m\n\u001B[1;32m     73\u001B[0m     \u001B[0;32mdef\u001B[0m \u001B[0mdraw_wrapper\u001B[0m\u001B[0;34m(\u001B[0m\u001B[0martist\u001B[0m\u001B[0;34m,\u001B[0m \u001B[0mrenderer\u001B[0m\u001B[0;34m,\u001B[0m \u001B[0;34m*\u001B[0m\u001B[0margs\u001B[0m\u001B[0;34m,\u001B[0m \u001B[0;34m**\u001B[0m\u001B[0mkwargs\u001B[0m\u001B[0;34m)\u001B[0m\u001B[0;34m:\u001B[0m\u001B[0;34m\u001B[0m\u001B[0;34m\u001B[0m\u001B[0m\n\u001B[0;32m---> 74\u001B[0;31m         \u001B[0mresult\u001B[0m \u001B[0;34m=\u001B[0m \u001B[0mdraw\u001B[0m\u001B[0;34m(\u001B[0m\u001B[0martist\u001B[0m\u001B[0;34m,\u001B[0m \u001B[0mrenderer\u001B[0m\u001B[0;34m,\u001B[0m \u001B[0;34m*\u001B[0m\u001B[0margs\u001B[0m\u001B[0;34m,\u001B[0m \u001B[0;34m**\u001B[0m\u001B[0mkwargs\u001B[0m\u001B[0;34m)\u001B[0m\u001B[0;34m\u001B[0m\u001B[0;34m\u001B[0m\u001B[0m\n\u001B[0m\u001B[1;32m     75\u001B[0m         \u001B[0;32mif\u001B[0m \u001B[0mrenderer\u001B[0m\u001B[0;34m.\u001B[0m\u001B[0m_rasterizing\u001B[0m\u001B[0;34m:\u001B[0m\u001B[0;34m\u001B[0m\u001B[0;34m\u001B[0m\u001B[0m\n\u001B[1;32m     76\u001B[0m             \u001B[0mrenderer\u001B[0m\u001B[0;34m.\u001B[0m\u001B[0mstop_rasterizing\u001B[0m\u001B[0;34m(\u001B[0m\u001B[0;34m)\u001B[0m\u001B[0;34m\u001B[0m\u001B[0;34m\u001B[0m\u001B[0m\n",
      "\u001B[0;32m~/anaconda3/envs/py37/lib/python3.7/site-packages/matplotlib/artist.py\u001B[0m in \u001B[0;36mdraw_wrapper\u001B[0;34m(artist, renderer)\u001B[0m\n\u001B[1;32m     49\u001B[0m                 \u001B[0mrenderer\u001B[0m\u001B[0;34m.\u001B[0m\u001B[0mstart_filter\u001B[0m\u001B[0;34m(\u001B[0m\u001B[0;34m)\u001B[0m\u001B[0;34m\u001B[0m\u001B[0;34m\u001B[0m\u001B[0m\n\u001B[1;32m     50\u001B[0m \u001B[0;34m\u001B[0m\u001B[0m\n\u001B[0;32m---> 51\u001B[0;31m             \u001B[0;32mreturn\u001B[0m \u001B[0mdraw\u001B[0m\u001B[0;34m(\u001B[0m\u001B[0martist\u001B[0m\u001B[0;34m,\u001B[0m \u001B[0mrenderer\u001B[0m\u001B[0;34m)\u001B[0m\u001B[0;34m\u001B[0m\u001B[0;34m\u001B[0m\u001B[0m\n\u001B[0m\u001B[1;32m     52\u001B[0m         \u001B[0;32mfinally\u001B[0m\u001B[0;34m:\u001B[0m\u001B[0;34m\u001B[0m\u001B[0;34m\u001B[0m\u001B[0m\n\u001B[1;32m     53\u001B[0m             \u001B[0;32mif\u001B[0m \u001B[0martist\u001B[0m\u001B[0;34m.\u001B[0m\u001B[0mget_agg_filter\u001B[0m\u001B[0;34m(\u001B[0m\u001B[0;34m)\u001B[0m \u001B[0;32mis\u001B[0m \u001B[0;32mnot\u001B[0m \u001B[0;32mNone\u001B[0m\u001B[0;34m:\u001B[0m\u001B[0;34m\u001B[0m\u001B[0;34m\u001B[0m\u001B[0m\n",
      "\u001B[0;32m~/anaconda3/envs/py37/lib/python3.7/site-packages/matplotlib/figure.py\u001B[0m in \u001B[0;36mdraw\u001B[0;34m(self, renderer)\u001B[0m\n\u001B[1;32m   2844\u001B[0m             \u001B[0mself\u001B[0m\u001B[0;34m.\u001B[0m\u001B[0mpatch\u001B[0m\u001B[0;34m.\u001B[0m\u001B[0mdraw\u001B[0m\u001B[0;34m(\u001B[0m\u001B[0mrenderer\u001B[0m\u001B[0;34m)\u001B[0m\u001B[0;34m\u001B[0m\u001B[0;34m\u001B[0m\u001B[0m\n\u001B[1;32m   2845\u001B[0m             mimage._draw_list_compositing_images(\n\u001B[0;32m-> 2846\u001B[0;31m                 renderer, self, artists, self.suppressComposite)\n\u001B[0m\u001B[1;32m   2847\u001B[0m \u001B[0;34m\u001B[0m\u001B[0m\n\u001B[1;32m   2848\u001B[0m             \u001B[0;32mfor\u001B[0m \u001B[0msfig\u001B[0m \u001B[0;32min\u001B[0m \u001B[0mself\u001B[0m\u001B[0;34m.\u001B[0m\u001B[0msubfigs\u001B[0m\u001B[0;34m:\u001B[0m\u001B[0;34m\u001B[0m\u001B[0;34m\u001B[0m\u001B[0m\n",
      "\u001B[0;32m~/anaconda3/envs/py37/lib/python3.7/site-packages/matplotlib/image.py\u001B[0m in \u001B[0;36m_draw_list_compositing_images\u001B[0;34m(renderer, parent, artists, suppress_composite)\u001B[0m\n\u001B[1;32m    130\u001B[0m     \u001B[0;32mif\u001B[0m \u001B[0mnot_composite\u001B[0m \u001B[0;32mor\u001B[0m \u001B[0;32mnot\u001B[0m \u001B[0mhas_images\u001B[0m\u001B[0;34m:\u001B[0m\u001B[0;34m\u001B[0m\u001B[0;34m\u001B[0m\u001B[0m\n\u001B[1;32m    131\u001B[0m         \u001B[0;32mfor\u001B[0m \u001B[0ma\u001B[0m \u001B[0;32min\u001B[0m \u001B[0martists\u001B[0m\u001B[0;34m:\u001B[0m\u001B[0;34m\u001B[0m\u001B[0;34m\u001B[0m\u001B[0m\n\u001B[0;32m--> 132\u001B[0;31m             \u001B[0ma\u001B[0m\u001B[0;34m.\u001B[0m\u001B[0mdraw\u001B[0m\u001B[0;34m(\u001B[0m\u001B[0mrenderer\u001B[0m\u001B[0;34m)\u001B[0m\u001B[0;34m\u001B[0m\u001B[0;34m\u001B[0m\u001B[0m\n\u001B[0m\u001B[1;32m    133\u001B[0m     \u001B[0;32melse\u001B[0m\u001B[0;34m:\u001B[0m\u001B[0;34m\u001B[0m\u001B[0;34m\u001B[0m\u001B[0m\n\u001B[1;32m    134\u001B[0m         \u001B[0;31m# Composite any adjacent images together\u001B[0m\u001B[0;34m\u001B[0m\u001B[0;34m\u001B[0m\u001B[0;34m\u001B[0m\u001B[0m\n",
      "\u001B[0;32m~/anaconda3/envs/py37/lib/python3.7/site-packages/matplotlib/artist.py\u001B[0m in \u001B[0;36mdraw_wrapper\u001B[0;34m(artist, renderer)\u001B[0m\n\u001B[1;32m     49\u001B[0m                 \u001B[0mrenderer\u001B[0m\u001B[0;34m.\u001B[0m\u001B[0mstart_filter\u001B[0m\u001B[0;34m(\u001B[0m\u001B[0;34m)\u001B[0m\u001B[0;34m\u001B[0m\u001B[0;34m\u001B[0m\u001B[0m\n\u001B[1;32m     50\u001B[0m \u001B[0;34m\u001B[0m\u001B[0m\n\u001B[0;32m---> 51\u001B[0;31m             \u001B[0;32mreturn\u001B[0m \u001B[0mdraw\u001B[0m\u001B[0;34m(\u001B[0m\u001B[0martist\u001B[0m\u001B[0;34m,\u001B[0m \u001B[0mrenderer\u001B[0m\u001B[0;34m)\u001B[0m\u001B[0;34m\u001B[0m\u001B[0;34m\u001B[0m\u001B[0m\n\u001B[0m\u001B[1;32m     52\u001B[0m         \u001B[0;32mfinally\u001B[0m\u001B[0;34m:\u001B[0m\u001B[0;34m\u001B[0m\u001B[0;34m\u001B[0m\u001B[0m\n\u001B[1;32m     53\u001B[0m             \u001B[0;32mif\u001B[0m \u001B[0martist\u001B[0m\u001B[0;34m.\u001B[0m\u001B[0mget_agg_filter\u001B[0m\u001B[0;34m(\u001B[0m\u001B[0;34m)\u001B[0m \u001B[0;32mis\u001B[0m \u001B[0;32mnot\u001B[0m \u001B[0;32mNone\u001B[0m\u001B[0;34m:\u001B[0m\u001B[0;34m\u001B[0m\u001B[0;34m\u001B[0m\u001B[0m\n",
      "\u001B[0;32m~/anaconda3/envs/py37/lib/python3.7/site-packages/matplotlib/axes/_base.py\u001B[0m in \u001B[0;36mdraw\u001B[0;34m(self, renderer)\u001B[0m\n\u001B[1;32m   3090\u001B[0m \u001B[0;34m\u001B[0m\u001B[0m\n\u001B[1;32m   3091\u001B[0m         mimage._draw_list_compositing_images(\n\u001B[0;32m-> 3092\u001B[0;31m             renderer, self, artists, self.figure.suppressComposite)\n\u001B[0m\u001B[1;32m   3093\u001B[0m \u001B[0;34m\u001B[0m\u001B[0m\n\u001B[1;32m   3094\u001B[0m         \u001B[0mrenderer\u001B[0m\u001B[0;34m.\u001B[0m\u001B[0mclose_group\u001B[0m\u001B[0;34m(\u001B[0m\u001B[0;34m'axes'\u001B[0m\u001B[0;34m)\u001B[0m\u001B[0;34m\u001B[0m\u001B[0;34m\u001B[0m\u001B[0m\n",
      "\u001B[0;32m~/anaconda3/envs/py37/lib/python3.7/site-packages/matplotlib/image.py\u001B[0m in \u001B[0;36m_draw_list_compositing_images\u001B[0;34m(renderer, parent, artists, suppress_composite)\u001B[0m\n\u001B[1;32m    130\u001B[0m     \u001B[0;32mif\u001B[0m \u001B[0mnot_composite\u001B[0m \u001B[0;32mor\u001B[0m \u001B[0;32mnot\u001B[0m \u001B[0mhas_images\u001B[0m\u001B[0;34m:\u001B[0m\u001B[0;34m\u001B[0m\u001B[0;34m\u001B[0m\u001B[0m\n\u001B[1;32m    131\u001B[0m         \u001B[0;32mfor\u001B[0m \u001B[0ma\u001B[0m \u001B[0;32min\u001B[0m \u001B[0martists\u001B[0m\u001B[0;34m:\u001B[0m\u001B[0;34m\u001B[0m\u001B[0;34m\u001B[0m\u001B[0m\n\u001B[0;32m--> 132\u001B[0;31m             \u001B[0ma\u001B[0m\u001B[0;34m.\u001B[0m\u001B[0mdraw\u001B[0m\u001B[0;34m(\u001B[0m\u001B[0mrenderer\u001B[0m\u001B[0;34m)\u001B[0m\u001B[0;34m\u001B[0m\u001B[0;34m\u001B[0m\u001B[0m\n\u001B[0m\u001B[1;32m    133\u001B[0m     \u001B[0;32melse\u001B[0m\u001B[0;34m:\u001B[0m\u001B[0;34m\u001B[0m\u001B[0;34m\u001B[0m\u001B[0m\n\u001B[1;32m    134\u001B[0m         \u001B[0;31m# Composite any adjacent images together\u001B[0m\u001B[0;34m\u001B[0m\u001B[0;34m\u001B[0m\u001B[0;34m\u001B[0m\u001B[0m\n",
      "\u001B[0;32m~/anaconda3/envs/py37/lib/python3.7/site-packages/matplotlib/patches.py\u001B[0m in \u001B[0;36mdraw\u001B[0;34m(self, renderer)\u001B[0m\n\u001B[1;32m   4489\u001B[0m             \u001B[0;31m# too.\u001B[0m\u001B[0;34m\u001B[0m\u001B[0;34m\u001B[0m\u001B[0;34m\u001B[0m\u001B[0m\n\u001B[1;32m   4490\u001B[0m             \u001B[0mself\u001B[0m\u001B[0;34m.\u001B[0m\u001B[0m_dpi_cor\u001B[0m \u001B[0;34m=\u001B[0m \u001B[0mrenderer\u001B[0m\u001B[0;34m.\u001B[0m\u001B[0mpoints_to_pixels\u001B[0m\u001B[0;34m(\u001B[0m\u001B[0;36m1.\u001B[0m\u001B[0;34m)\u001B[0m\u001B[0;34m\u001B[0m\u001B[0;34m\u001B[0m\u001B[0m\n\u001B[0;32m-> 4491\u001B[0;31m             \u001B[0mpath\u001B[0m\u001B[0;34m,\u001B[0m \u001B[0mfillable\u001B[0m \u001B[0;34m=\u001B[0m \u001B[0mself\u001B[0m\u001B[0;34m.\u001B[0m\u001B[0m_get_path_in_displaycoord\u001B[0m\u001B[0;34m(\u001B[0m\u001B[0;34m)\u001B[0m\u001B[0;34m\u001B[0m\u001B[0;34m\u001B[0m\u001B[0m\n\u001B[0m\u001B[1;32m   4492\u001B[0m \u001B[0;34m\u001B[0m\u001B[0m\n\u001B[1;32m   4493\u001B[0m             \u001B[0;32mif\u001B[0m \u001B[0;32mnot\u001B[0m \u001B[0mnp\u001B[0m\u001B[0;34m.\u001B[0m\u001B[0miterable\u001B[0m\u001B[0;34m(\u001B[0m\u001B[0mfillable\u001B[0m\u001B[0;34m)\u001B[0m\u001B[0;34m:\u001B[0m\u001B[0;34m\u001B[0m\u001B[0;34m\u001B[0m\u001B[0m\n",
      "\u001B[0;32m~/anaconda3/envs/py37/lib/python3.7/site-packages/matplotlib/patches.py\u001B[0m in \u001B[0;36m_get_path_in_displaycoord\u001B[0;34m(self)\u001B[0m\n\u001B[1;32m   4461\u001B[0m                                                \u001B[0mpatchB\u001B[0m\u001B[0;34m=\u001B[0m\u001B[0mself\u001B[0m\u001B[0;34m.\u001B[0m\u001B[0mpatchB\u001B[0m\u001B[0;34m,\u001B[0m\u001B[0;34m\u001B[0m\u001B[0;34m\u001B[0m\u001B[0m\n\u001B[1;32m   4462\u001B[0m                                                \u001B[0mshrinkA\u001B[0m\u001B[0;34m=\u001B[0m\u001B[0mself\u001B[0m\u001B[0;34m.\u001B[0m\u001B[0mshrinkA\u001B[0m \u001B[0;34m*\u001B[0m \u001B[0mdpi_cor\u001B[0m\u001B[0;34m,\u001B[0m\u001B[0;34m\u001B[0m\u001B[0;34m\u001B[0m\u001B[0m\n\u001B[0;32m-> 4463\u001B[0;31m                                                \u001B[0mshrinkB\u001B[0m\u001B[0;34m=\u001B[0m\u001B[0mself\u001B[0m\u001B[0;34m.\u001B[0m\u001B[0mshrinkB\u001B[0m \u001B[0;34m*\u001B[0m \u001B[0mdpi_cor\u001B[0m\u001B[0;34m\u001B[0m\u001B[0;34m\u001B[0m\u001B[0m\n\u001B[0m\u001B[1;32m   4464\u001B[0m                                                )\n\u001B[1;32m   4465\u001B[0m         \u001B[0;32melse\u001B[0m\u001B[0;34m:\u001B[0m\u001B[0;34m\u001B[0m\u001B[0;34m\u001B[0m\u001B[0m\n",
      "\u001B[0;32m~/anaconda3/envs/py37/lib/python3.7/site-packages/networkx/drawing/nx_pylab.py\u001B[0m in \u001B[0;36m_connectionstyle\u001B[0;34m(posA, posB, *args, **kwargs)\u001B[0m\n\u001B[1;32m    782\u001B[0m             \u001B[0;31m# if not, fall back to the user specified behavior\u001B[0m\u001B[0;34m\u001B[0m\u001B[0;34m\u001B[0m\u001B[0;34m\u001B[0m\u001B[0m\n\u001B[1;32m    783\u001B[0m             \u001B[0;32melse\u001B[0m\u001B[0;34m:\u001B[0m\u001B[0;34m\u001B[0m\u001B[0;34m\u001B[0m\u001B[0m\n\u001B[0;32m--> 784\u001B[0;31m                 \u001B[0mret\u001B[0m \u001B[0;34m=\u001B[0m \u001B[0mbase_connection_style\u001B[0m\u001B[0;34m(\u001B[0m\u001B[0mposA\u001B[0m\u001B[0;34m,\u001B[0m \u001B[0mposB\u001B[0m\u001B[0;34m,\u001B[0m \u001B[0;34m*\u001B[0m\u001B[0margs\u001B[0m\u001B[0;34m,\u001B[0m \u001B[0;34m**\u001B[0m\u001B[0mkwargs\u001B[0m\u001B[0;34m)\u001B[0m\u001B[0;34m\u001B[0m\u001B[0;34m\u001B[0m\u001B[0m\n\u001B[0m\u001B[1;32m    785\u001B[0m \u001B[0;34m\u001B[0m\u001B[0m\n\u001B[1;32m    786\u001B[0m             \u001B[0;32mreturn\u001B[0m \u001B[0mret\u001B[0m\u001B[0;34m\u001B[0m\u001B[0;34m\u001B[0m\u001B[0m\n",
      "\u001B[0;32m~/anaconda3/envs/py37/lib/python3.7/site-packages/matplotlib/patches.py\u001B[0m in \u001B[0;36m__call__\u001B[0;34m(self, posA, posB, shrinkA, shrinkB, patchA, patchB)\u001B[0m\n\u001B[1;32m   2775\u001B[0m             \u001B[0mpath\u001B[0m \u001B[0;34m=\u001B[0m \u001B[0mself\u001B[0m\u001B[0;34m.\u001B[0m\u001B[0mconnect\u001B[0m\u001B[0;34m(\u001B[0m\u001B[0mposA\u001B[0m\u001B[0;34m,\u001B[0m \u001B[0mposB\u001B[0m\u001B[0;34m)\u001B[0m\u001B[0;34m\u001B[0m\u001B[0;34m\u001B[0m\u001B[0m\n\u001B[1;32m   2776\u001B[0m             \u001B[0mclipped_path\u001B[0m \u001B[0;34m=\u001B[0m \u001B[0mself\u001B[0m\u001B[0;34m.\u001B[0m\u001B[0m_clip\u001B[0m\u001B[0;34m(\u001B[0m\u001B[0mpath\u001B[0m\u001B[0;34m,\u001B[0m \u001B[0mpatchA\u001B[0m\u001B[0;34m,\u001B[0m \u001B[0mpatchB\u001B[0m\u001B[0;34m)\u001B[0m\u001B[0;34m\u001B[0m\u001B[0;34m\u001B[0m\u001B[0m\n\u001B[0;32m-> 2777\u001B[0;31m             \u001B[0mshrunk_path\u001B[0m \u001B[0;34m=\u001B[0m \u001B[0mself\u001B[0m\u001B[0;34m.\u001B[0m\u001B[0m_shrink\u001B[0m\u001B[0;34m(\u001B[0m\u001B[0mclipped_path\u001B[0m\u001B[0;34m,\u001B[0m \u001B[0mshrinkA\u001B[0m\u001B[0;34m,\u001B[0m \u001B[0mshrinkB\u001B[0m\u001B[0;34m)\u001B[0m\u001B[0;34m\u001B[0m\u001B[0;34m\u001B[0m\u001B[0m\n\u001B[0m\u001B[1;32m   2778\u001B[0m             \u001B[0;32mreturn\u001B[0m \u001B[0mshrunk_path\u001B[0m\u001B[0;34m\u001B[0m\u001B[0;34m\u001B[0m\u001B[0m\n\u001B[1;32m   2779\u001B[0m \u001B[0;34m\u001B[0m\u001B[0m\n",
      "\u001B[0;32m~/anaconda3/envs/py37/lib/python3.7/site-packages/matplotlib/patches.py\u001B[0m in \u001B[0;36m_shrink\u001B[0;34m(self, path, shrinkA, shrinkB)\u001B[0m\n\u001B[1;32m   2762\u001B[0m                 \u001B[0minsideB\u001B[0m \u001B[0;34m=\u001B[0m \u001B[0minside_circle\u001B[0m\u001B[0;34m(\u001B[0m\u001B[0;34m*\u001B[0m\u001B[0mpath\u001B[0m\u001B[0;34m.\u001B[0m\u001B[0mvertices\u001B[0m\u001B[0;34m[\u001B[0m\u001B[0;34m-\u001B[0m\u001B[0;36m1\u001B[0m\u001B[0;34m]\u001B[0m\u001B[0;34m,\u001B[0m \u001B[0mshrinkB\u001B[0m\u001B[0;34m)\u001B[0m\u001B[0;34m\u001B[0m\u001B[0;34m\u001B[0m\u001B[0m\n\u001B[1;32m   2763\u001B[0m                 \u001B[0;32mtry\u001B[0m\u001B[0;34m:\u001B[0m\u001B[0;34m\u001B[0m\u001B[0;34m\u001B[0m\u001B[0m\n\u001B[0;32m-> 2764\u001B[0;31m                     \u001B[0mpath\u001B[0m\u001B[0;34m,\u001B[0m \u001B[0mright\u001B[0m \u001B[0;34m=\u001B[0m \u001B[0msplit_path_inout\u001B[0m\u001B[0;34m(\u001B[0m\u001B[0mpath\u001B[0m\u001B[0;34m,\u001B[0m \u001B[0minsideB\u001B[0m\u001B[0;34m)\u001B[0m\u001B[0;34m\u001B[0m\u001B[0;34m\u001B[0m\u001B[0m\n\u001B[0m\u001B[1;32m   2765\u001B[0m                 \u001B[0;32mexcept\u001B[0m \u001B[0mValueError\u001B[0m\u001B[0;34m:\u001B[0m\u001B[0;34m\u001B[0m\u001B[0;34m\u001B[0m\u001B[0m\n\u001B[1;32m   2766\u001B[0m                     \u001B[0;32mpass\u001B[0m\u001B[0;34m\u001B[0m\u001B[0;34m\u001B[0m\u001B[0m\n",
      "\u001B[0;32m~/anaconda3/envs/py37/lib/python3.7/site-packages/matplotlib/bezier.py\u001B[0m in \u001B[0;36msplit_path_inout\u001B[0;34m(path, inside, tolerance, reorder_inout)\u001B[0m\n\u001B[1;32m    370\u001B[0m     \u001B[0mbp\u001B[0m \u001B[0;34m=\u001B[0m \u001B[0mbezier_path\u001B[0m\u001B[0;34m.\u001B[0m\u001B[0mreshape\u001B[0m\u001B[0;34m(\u001B[0m\u001B[0;34m(\u001B[0m\u001B[0;34m-\u001B[0m\u001B[0;36m1\u001B[0m\u001B[0;34m,\u001B[0m \u001B[0;36m2\u001B[0m\u001B[0;34m)\u001B[0m\u001B[0;34m)\u001B[0m\u001B[0;34m\u001B[0m\u001B[0;34m\u001B[0m\u001B[0m\n\u001B[1;32m    371\u001B[0m     left, right = split_bezier_intersecting_with_closedpath(\n\u001B[0;32m--> 372\u001B[0;31m         bp, inside, tolerance)\n\u001B[0m\u001B[1;32m    373\u001B[0m     \u001B[0;32mif\u001B[0m \u001B[0mlen\u001B[0m\u001B[0;34m(\u001B[0m\u001B[0mleft\u001B[0m\u001B[0;34m)\u001B[0m \u001B[0;34m==\u001B[0m \u001B[0;36m2\u001B[0m\u001B[0;34m:\u001B[0m\u001B[0;34m\u001B[0m\u001B[0;34m\u001B[0m\u001B[0m\n\u001B[1;32m    374\u001B[0m         \u001B[0mcodes_left\u001B[0m \u001B[0;34m=\u001B[0m \u001B[0;34m[\u001B[0m\u001B[0mPath\u001B[0m\u001B[0;34m.\u001B[0m\u001B[0mLINETO\u001B[0m\u001B[0;34m]\u001B[0m\u001B[0;34m\u001B[0m\u001B[0;34m\u001B[0m\u001B[0m\n",
      "\u001B[0;32m~/anaconda3/envs/py37/lib/python3.7/site-packages/matplotlib/bezier.py\u001B[0m in \u001B[0;36msplit_bezier_intersecting_with_closedpath\u001B[0;34m(bezier, inside_closedpath, tolerance)\u001B[0m\n\u001B[1;32m    333\u001B[0m \u001B[0;34m\u001B[0m\u001B[0m\n\u001B[1;32m    334\u001B[0m     t0, t1 = find_bezier_t_intersecting_with_closedpath(\n\u001B[0;32m--> 335\u001B[0;31m         bezier_point_at_t, inside_closedpath, tolerance=tolerance)\n\u001B[0m\u001B[1;32m    336\u001B[0m \u001B[0;34m\u001B[0m\u001B[0m\n\u001B[1;32m    337\u001B[0m     \u001B[0m_left\u001B[0m\u001B[0;34m,\u001B[0m \u001B[0m_right\u001B[0m \u001B[0;34m=\u001B[0m \u001B[0msplit_de_casteljau\u001B[0m\u001B[0;34m(\u001B[0m\u001B[0mbezier\u001B[0m\u001B[0;34m,\u001B[0m \u001B[0;34m(\u001B[0m\u001B[0mt0\u001B[0m \u001B[0;34m+\u001B[0m \u001B[0mt1\u001B[0m\u001B[0;34m)\u001B[0m \u001B[0;34m/\u001B[0m \u001B[0;36m2.\u001B[0m\u001B[0;34m)\u001B[0m\u001B[0;34m\u001B[0m\u001B[0;34m\u001B[0m\u001B[0m\n",
      "\u001B[0;32m~/anaconda3/envs/py37/lib/python3.7/site-packages/matplotlib/bezier.py\u001B[0m in \u001B[0;36mfind_bezier_t_intersecting_with_closedpath\u001B[0;34m(bezier_point_at_t, inside_closedpath, t0, t1, tolerance)\u001B[0m\n\u001B[1;32m    167\u001B[0m         \u001B[0;31m# calculate the middle point\u001B[0m\u001B[0;34m\u001B[0m\u001B[0;34m\u001B[0m\u001B[0;34m\u001B[0m\u001B[0m\n\u001B[1;32m    168\u001B[0m         \u001B[0mmiddle_t\u001B[0m \u001B[0;34m=\u001B[0m \u001B[0;36m0.5\u001B[0m \u001B[0;34m*\u001B[0m \u001B[0;34m(\u001B[0m\u001B[0mt0\u001B[0m \u001B[0;34m+\u001B[0m \u001B[0mt1\u001B[0m\u001B[0;34m)\u001B[0m\u001B[0;34m\u001B[0m\u001B[0;34m\u001B[0m\u001B[0m\n\u001B[0;32m--> 169\u001B[0;31m         \u001B[0mmiddle\u001B[0m \u001B[0;34m=\u001B[0m \u001B[0mbezier_point_at_t\u001B[0m\u001B[0;34m(\u001B[0m\u001B[0mmiddle_t\u001B[0m\u001B[0;34m)\u001B[0m\u001B[0;34m\u001B[0m\u001B[0;34m\u001B[0m\u001B[0m\n\u001B[0m\u001B[1;32m    170\u001B[0m         \u001B[0mmiddle_inside\u001B[0m \u001B[0;34m=\u001B[0m \u001B[0minside_closedpath\u001B[0m\u001B[0;34m(\u001B[0m\u001B[0mmiddle\u001B[0m\u001B[0;34m)\u001B[0m\u001B[0;34m\u001B[0m\u001B[0;34m\u001B[0m\u001B[0m\n\u001B[1;32m    171\u001B[0m \u001B[0;34m\u001B[0m\u001B[0m\n",
      "\u001B[0;32m~/anaconda3/envs/py37/lib/python3.7/site-packages/matplotlib/bezier.py\u001B[0m in \u001B[0;36mpoint_at_t\u001B[0;34m(self, t)\u001B[0m\n\u001B[1;32m    221\u001B[0m         \u001B[0mEvaluate\u001B[0m \u001B[0mthe\u001B[0m \u001B[0mcurve\u001B[0m \u001B[0mat\u001B[0m \u001B[0ma\u001B[0m \u001B[0msingle\u001B[0m \u001B[0mpoint\u001B[0m\u001B[0;34m,\u001B[0m \u001B[0mreturning\u001B[0m \u001B[0ma\u001B[0m \u001B[0mtuple\u001B[0m \u001B[0mof\u001B[0m \u001B[0;34m*\u001B[0m\u001B[0md\u001B[0m\u001B[0;34m*\u001B[0m \u001B[0mfloats\u001B[0m\u001B[0;34m.\u001B[0m\u001B[0;34m\u001B[0m\u001B[0;34m\u001B[0m\u001B[0m\n\u001B[1;32m    222\u001B[0m         \"\"\"\n\u001B[0;32m--> 223\u001B[0;31m         \u001B[0;32mreturn\u001B[0m \u001B[0mtuple\u001B[0m\u001B[0;34m(\u001B[0m\u001B[0mself\u001B[0m\u001B[0;34m(\u001B[0m\u001B[0mt\u001B[0m\u001B[0;34m)\u001B[0m\u001B[0;34m)\u001B[0m\u001B[0;34m\u001B[0m\u001B[0;34m\u001B[0m\u001B[0m\n\u001B[0m\u001B[1;32m    224\u001B[0m \u001B[0;34m\u001B[0m\u001B[0m\n\u001B[1;32m    225\u001B[0m     \u001B[0;34m@\u001B[0m\u001B[0mproperty\u001B[0m\u001B[0;34m\u001B[0m\u001B[0;34m\u001B[0m\u001B[0m\n",
      "\u001B[0;32m~/anaconda3/envs/py37/lib/python3.7/site-packages/matplotlib/bezier.py\u001B[0m in \u001B[0;36m__call__\u001B[0;34m(self, t)\u001B[0m\n\u001B[1;32m    214\u001B[0m         \"\"\"\n\u001B[1;32m    215\u001B[0m         \u001B[0mt\u001B[0m \u001B[0;34m=\u001B[0m \u001B[0mnp\u001B[0m\u001B[0;34m.\u001B[0m\u001B[0masarray\u001B[0m\u001B[0;34m(\u001B[0m\u001B[0mt\u001B[0m\u001B[0;34m)\u001B[0m\u001B[0;34m\u001B[0m\u001B[0;34m\u001B[0m\u001B[0m\n\u001B[0;32m--> 216\u001B[0;31m         return (np.power.outer(1 - t, self._orders[::-1])\n\u001B[0m\u001B[1;32m    217\u001B[0m                 * np.power.outer(t, self._orders)) @ self._px\n\u001B[1;32m    218\u001B[0m \u001B[0;34m\u001B[0m\u001B[0m\n",
      "\u001B[0;31mKeyboardInterrupt\u001B[0m: "
     ]
    }
   ],
   "source": [
    "# Draw the graph node\n",
    "nx.draw(subset_followers_graph, with_labels=False, node_size=20, node_color=(0.392, 0.584, 0.929, 0.5))\n",
    "\n",
    "# Display the graph\n",
    "plt.show()"
   ],
   "metadata": {
    "collapsed": false,
    "ExecuteTime": {
     "end_time": "2023-12-03T22:35:09.571129Z",
     "start_time": "2023-12-03T22:34:40.700618Z"
    }
   },
   "id": "740e3277593143b2"
  },
  {
   "cell_type": "code",
   "execution_count": 6,
   "outputs": [
    {
     "name": "stdout",
     "output_type": "stream",
     "text": [
      "edges before removal: 25779\n",
      "edges after removal: 23202\n",
      "density: 0.023225225225225226\n"
     ]
    }
   ],
   "source": [
    "removed_edges_graph = subset_followers_graph.copy()\n",
    "print(\"edges before removal:\",removed_edges_graph.number_of_edges())\n",
    "def remove_edges(G, k):\n",
    "    # Calculate the number of edges to remove (10% of total edges)\n",
    "    num_edges_to_remove = int(k * G.number_of_edges())\n",
    "    \n",
    "    # Get the list of all edges in the graph\n",
    "    all_edges = list(G.edges())\n",
    "    random.seed(947)\n",
    "    # Randomly select edges to remove\n",
    "    removed_edges = random.sample(all_edges, num_edges_to_remove)\n",
    "    \n",
    "    # Remove the selected edges from the graph\n",
    "    G.remove_edges_from(removed_edges)\n",
    "    \n",
    "    return set(removed_edges)\n",
    "\n",
    "removed_edges = remove_edges(removed_edges_graph,0.1)\n",
    "removed_nodes_set = set()\n",
    "for edge in removed_edges:\n",
    "    removed_nodes_set.add(edge[0])\n",
    "print(\"edges after removal:\", removed_edges_graph.number_of_edges())\n",
    "print(f\"density: {nx.density(removed_edges_graph)}\")"
   ],
   "metadata": {
    "collapsed": false,
    "ExecuteTime": {
     "end_time": "2023-12-03T22:35:12.687184Z",
     "start_time": "2023-12-03T22:35:12.591695Z"
    }
   },
   "id": "a5e8442a92403e29"
  },
  {
   "cell_type": "code",
   "execution_count": 7,
   "id": "243ec764fc6d220e",
   "metadata": {
    "collapsed": false,
    "ExecuteTime": {
     "end_time": "2023-12-03T22:35:17.814193Z",
     "start_time": "2023-12-03T22:35:17.732384Z"
    }
   },
   "outputs": [
    {
     "ename": "TypeError",
     "evalue": "new(): invalid data type 'str'",
     "output_type": "error",
     "traceback": [
      "\u001B[0;31m---------------------------------------------------------------------------\u001B[0m",
      "\u001B[0;31mTypeError\u001B[0m                                 Traceback (most recent call last)",
      "\u001B[0;32m/var/folders/rk/x8250c_j4xv6115z61pg874c0000gn/T/ipykernel_28202/2888896265.py\u001B[0m in \u001B[0;36m<module>\u001B[0;34m\u001B[0m\n\u001B[1;32m     34\u001B[0m     \u001B[0madjacency_matrix\u001B[0m \u001B[0;34m=\u001B[0m \u001B[0mtorch\u001B[0m\u001B[0;34m.\u001B[0m\u001B[0mzeros\u001B[0m\u001B[0;34m(\u001B[0m\u001B[0;34m(\u001B[0m\u001B[0mnum_nodes\u001B[0m\u001B[0;34m,\u001B[0m \u001B[0mnum_nodes\u001B[0m\u001B[0;34m)\u001B[0m\u001B[0;34m,\u001B[0m \u001B[0mdtype\u001B[0m\u001B[0;34m=\u001B[0m\u001B[0mtorch\u001B[0m\u001B[0;34m.\u001B[0m\u001B[0mfloat32\u001B[0m\u001B[0;34m)\u001B[0m\u001B[0;34m\u001B[0m\u001B[0;34m\u001B[0m\u001B[0m\n\u001B[1;32m     35\u001B[0m     \u001B[0;32mfor\u001B[0m \u001B[0medge\u001B[0m \u001B[0;32min\u001B[0m \u001B[0mtrain_edge_list\u001B[0m\u001B[0;34m:\u001B[0m\u001B[0;34m\u001B[0m\u001B[0;34m\u001B[0m\u001B[0m\n\u001B[0;32m---> 36\u001B[0;31m         \u001B[0madjacency_matrix\u001B[0m\u001B[0;34m[\u001B[0m\u001B[0medge\u001B[0m\u001B[0;34m[\u001B[0m\u001B[0;36m0\u001B[0m\u001B[0;34m]\u001B[0m\u001B[0;34m,\u001B[0m \u001B[0medge\u001B[0m\u001B[0;34m[\u001B[0m\u001B[0;36m1\u001B[0m\u001B[0;34m]\u001B[0m\u001B[0;34m]\u001B[0m \u001B[0;34m=\u001B[0m \u001B[0;36m1.0\u001B[0m\u001B[0;34m\u001B[0m\u001B[0;34m\u001B[0m\u001B[0m\n\u001B[0m\u001B[1;32m     37\u001B[0m \u001B[0;34m\u001B[0m\u001B[0m\n\u001B[1;32m     38\u001B[0m     \u001B[0mpredictions\u001B[0m \u001B[0;34m=\u001B[0m \u001B[0mmodel\u001B[0m\u001B[0;34m(\u001B[0m\u001B[0madjacency_matrix\u001B[0m\u001B[0;34m)\u001B[0m\u001B[0;34m\u001B[0m\u001B[0;34m\u001B[0m\u001B[0m\n",
      "\u001B[0;31mTypeError\u001B[0m: new(): invalid data type 'str'"
     ]
    }
   ],
   "source": [
    "edge_list = list(subset_followers_graph.edges)\n",
    "\n",
    "# Simple GNN, might be better to test with multiple convolutional layers\n",
    "class GNN(nn.Module):\n",
    "    def __init__(self, num_nodes, embedding_dim=16):\n",
    "        super(GNN, self).__init__()\n",
    "        self.conv1 = GCNConv(num_nodes, embedding_dim)\n",
    "        self.conv2 = GCNConv(embedding_dim, 1)  # Output 1 for edge prediction\n",
    "\n",
    "    def forward(self, edge_index):\n",
    "        x = torch.ones((num_nodes, 1), dtype=torch.float32)  # Dummy node features\n",
    "        x = F.relu(self.conv1(x, edge_index))\n",
    "        x = self.conv2(x, edge_index)\n",
    "        return x.squeeze(dim=1)\n",
    "\n",
    "# Split the edge list into training and test sets\n",
    "train_edge_list, test_edge_list = train_test_split(edge_list, test_size=0.15, random_state=42)\n",
    "\n",
    "all_nodes = set(node for edge in edge_list for node in edge)\n",
    "num_nodes = len(all_nodes)\n",
    "\n",
    "model = GNN(num_nodes)\n",
    "\n",
    "# The optimizer and loss function\n",
    "optimizer = optim.Adam(model.parameters(), lr=0.01)\n",
    "criterion = nn.BCEWithLogitsLoss()\n",
    "\n",
    "# Training\n",
    "num_epochs = 100\n",
    "for epoch in range(num_epochs):\n",
    "    optimizer.zero_grad()\n",
    "\n",
    "    # Adjacency matrix\n",
    "    adjacency_matrix = torch.zeros((num_nodes, num_nodes), dtype=torch.float32)\n",
    "    for edge in train_edge_list:\n",
    "        adjacency_matrix[edge[0], edge[1]] = 1.0\n",
    "\n",
    "    predictions = model(adjacency_matrix)\n",
    "\n",
    "    targets = torch.zeros_like(predictions)\n",
    "    for edge in train_edge_list:\n",
    "        targets[edge[0], edge[1]] = 1.0\n",
    "\n",
    "    loss = criterion(predictions, targets)\n",
    "\n",
    "    loss.backward()\n",
    "    optimizer.step()\n",
    "\n",
    "    print(f\"Epoch {epoch + 1}/{num_epochs}, Loss: {loss.item()}\")\n",
    "\n",
    "model.eval()\n",
    "\n",
    "# Adjacency matrix for the entire graph\n",
    "adjacency_matrix_full = torch.zeros((num_nodes, num_nodes), dtype=torch.float32)\n",
    "for edge in edge_list:\n",
    "    adjacency_matrix_full[edge[0], edge[1]] = 1.0\n",
    "\n",
    "# Predictions for the entire graph\n",
    "predictions_full = model(adjacency_matrix_full)\n",
    "\n",
    "# Evaluate on the test set\n",
    "test_predictions = torch.zeros_like(predictions_full)\n",
    "for edge in test_edge_list:\n",
    "    test_predictions[edge[0], edge[1]] = 1.0\n",
    "\n",
    "threshold = 0.5\n",
    "binary_predictions = (predictions_full > threshold).int()\n",
    "\n",
    "# Calculate accuracy on the test set\n",
    "correct_predictions = (binary_predictions == test_predictions).sum().item()\n",
    "total_predictions = test_predictions.sum().item()\n",
    "accuracy = correct_predictions / total_predictions\n",
    "\n",
    "print(f\"Test Accuracy: {accuracy:.4f}\")"
   ]
  },
  {
   "cell_type": "code",
   "execution_count": 8,
   "outputs": [],
   "source": [
    "def jaccard_prediction(G, k):\n",
    "    predictions = {}\n",
    "    for node1 in removed_nodes_set:\n",
    "        node1_friends = set(G.neighbors(node1))\n",
    "        scores = []\n",
    "        for node2 in list(G.nodes()):\n",
    "            if node1==node2: continue\n",
    "            if G.has_edge(node1, node2): continue\n",
    "            node2_friends = set(G.neighbors(node2))\n",
    "            total_friends = node1_friends.union(node2_friends)\n",
    "            numerator = sorted(w for w in node1_friends if w in node2_friends)\n",
    "            if len(total_friends)==0: score=0\n",
    "            else: score = len(numerator)/len(total_friends)\n",
    "            scores.append([node2, score])\n",
    "        \n",
    "        predicted_links = list(filter(lambda x: x[1] > k, scores))\n",
    "        if len(predicted_links)>0:\n",
    "            predictions[node1] = predicted_links\n",
    "    \n",
    "    predicted_edges = set()\n",
    "    for node1,scores in predictions.items():\n",
    "        for node2 in scores:\n",
    "            predicted_edges.add((node1, node2[0]))\n",
    "    return predicted_edges"
   ],
   "metadata": {
    "collapsed": false,
    "ExecuteTime": {
     "end_time": "2023-12-03T22:35:23.861349Z",
     "start_time": "2023-12-03T22:35:23.852733Z"
    }
   },
   "id": "de36bb3800d32cb4"
  },
  {
   "cell_type": "code",
   "execution_count": 9,
   "outputs": [],
   "source": [
    "def preferential_attachment_prediction(G, k):\n",
    "    predictions = {}\n",
    "    for node1 in removed_nodes_set:\n",
    "        scores = []\n",
    "        for node2 in list(G.nodes()):\n",
    "            if node1==node2: continue\n",
    "            if G.has_edge(node1, node2): continue\n",
    "            \n",
    "            score = G.degree(node1) * G.degree(node2)\n",
    "            scores.append([node2, score])\n",
    "        \n",
    "        predicted_links = list(filter(lambda x: x[1] > k, scores))\n",
    "        if len(predicted_links)>0:\n",
    "            predictions[node1] = predicted_links\n",
    "            \n",
    "    predicted_edges = set()\n",
    "    for node1,scores in predictions.items():\n",
    "        for node2 in scores:\n",
    "            predicted_edges.add((node1, node2[0]))\n",
    "    return predicted_edges\n"
   ],
   "metadata": {
    "collapsed": false,
    "ExecuteTime": {
     "end_time": "2023-12-03T22:35:27.214383Z",
     "start_time": "2023-12-03T22:35:27.168737Z"
    }
   },
   "id": "3baf9ba8c49ab75"
  },
  {
   "cell_type": "code",
   "execution_count": 10,
   "outputs": [],
   "source": [
    "def assess_accuracy(predicted_edges, actual_edges):\n",
    "    actual_edge_set = set(actual_edges)\n",
    "    predicted_edge_set = set(predicted_edges)\n",
    "    \n",
    "    # Calculate True Positive, False Positive, True Negative, False Negative\n",
    "    true_positive = len(actual_edge_set.intersection(predicted_edge_set))\n",
    "    false_positive = len(predicted_edge_set - actual_edge_set)\n",
    "    false_negative = len(actual_edge_set - predicted_edge_set)\n",
    "    \n",
    "    # Calculate precision, recall, and f1 score\n",
    "    \n",
    "    # accuracy of positive predictions - if we predicted edge, is there actually edge?\n",
    "    precision = true_positive / (true_positive + false_positive)\n",
    "    \n",
    "    # if there is edge, % of time we predict edge accurately?\n",
    "    recall = true_positive / (true_positive + false_negative)\n",
    "    \n",
    "    # means of balancing\n",
    "    if precision == 0 and recall == 0: f1_score = 0\n",
    "    else: f1_score = 2 * (precision * recall) / (precision + recall)\n",
    "    \n",
    "    # Print the results\n",
    "    print(f\"Precision: {precision:.2f}\", end=\" \")\n",
    "    print(f\"Recall: {recall:.2f}\", end = \" \")\n",
    "    print(f\"F1 Score: {f1_score:.2f}\")"
   ],
   "metadata": {
    "collapsed": false,
    "ExecuteTime": {
     "end_time": "2023-12-03T22:35:33.212742Z",
     "start_time": "2023-12-03T22:35:33.206830Z"
    }
   },
   "id": "64f1d6b1dc2d85f1"
  },
  {
   "cell_type": "code",
   "execution_count": 18,
   "outputs": [
    {
     "name": "stdout",
     "output_type": "stream",
     "text": [
      "Jaccard\n",
      "k=0:\n",
      "Precision: 0.01 Recall: 0.89 F1 Score: 0.02\n",
      "k=0.1:\n",
      "Precision: 0.04 Recall: 0.36 F1 Score: 0.07\n",
      "k=0.2:\n",
      "Precision: 0.09 Recall: 0.08 F1 Score: 0.08\n",
      "k=0.30000000000000004:\n",
      "Precision: 0.18 Recall: 0.02 F1 Score: 0.03\n",
      "k=0.4:\n",
      "Precision: 0.29 Recall: 0.00 F1 Score: 0.01\n",
      "k=0.5:\n",
      "Precision: 0.00 Recall: 0.00 F1 Score: 0.00\n",
      "k=0.6:\n",
      "Precision: 0.00 Recall: 0.00 F1 Score: 0.00\n",
      "k=0.7:\n",
      "Precision: 0.00 Recall: 0.00 F1 Score: 0.00\n",
      "k=0.7999999999999999:\n",
      "Precision: 0.00 Recall: 0.00 F1 Score: 0.00\n",
      "k=0.8999999999999999:\n",
      "Precision: 0.00 Recall: 0.00 F1 Score: 0.00\n",
      "k=0.9999999999999999:\n",
      "Precision: 0.00 Recall: 0.00 F1 Score: 0.00\n",
      "Preferential\n",
      "k=10000:\n",
      "Precision: 0.02 Recall: 0.23 F1 Score: 0.04\n",
      "k=20000:\n",
      "Precision: 0.04 Recall: 0.07 F1 Score: 0.05\n",
      "k=30000:\n",
      "Precision: 0.06 Recall: 0.02 F1 Score: 0.03\n",
      "k=40000:\n",
      "Precision: 0.08 Recall: 0.01 F1 Score: 0.01\n",
      "k=50000:\n",
      "Precision: 0.10 Recall: 0.00 F1 Score: 0.00\n",
      "k=60000:\n",
      "Precision: 0.00 Recall: 0.00 F1 Score: 0.00\n"
     ]
    }
   ],
   "source": [
    "print(\"Jaccard\")\n",
    "k = 0\n",
    "while k < 1:\n",
    "    jaccard_coefficient_graph_copy = removed_edges_graph.copy()\n",
    "    jaccard_predicted_edges = jaccard_prediction(jaccard_coefficient_graph_copy, k)\n",
    "    if len(jaccard_predicted_edges) == 0:\n",
    "        break\n",
    "    print(f\"k={k}:\")\n",
    "    assess_accuracy(jaccard_predicted_edges, removed_edges)\n",
    "    k += 0.1\n",
    "\n",
    "print(\"Preferential\")\n",
    "k = 10000\n",
    "while k < 100000:\n",
    "    preferential_graph_copy = removed_edges_graph.copy()\n",
    "    preferential_predicted_edges = preferential_attachment_prediction(preferential_graph_copy, k)\n",
    "    if len(preferential_predicted_edges) == 0:\n",
    "        break\n",
    "    print(f\"k={k}:\")\n",
    "    assess_accuracy(preferential_predicted_edges, removed_edges)\n",
    "    k += 10000"
   ],
   "metadata": {
    "collapsed": false,
    "ExecuteTime": {
     "end_time": "2023-12-03T21:59:17.255703Z",
     "start_time": "2023-12-03T21:58:54.724548Z"
    }
   },
   "id": "6e98659b80d92728"
  },
  {
   "cell_type": "code",
   "execution_count": 11,
   "outputs": [],
   "source": [
    "# Get adjacency matrix\n",
    "node_list = list(removed_edges_graph.nodes())\n",
    "A_sgd_factorize = nx.to_numpy_array(removed_edges_graph, nodelist=node_list)\n",
    "\n",
    "\n",
    "def sgd_factorize(A, K, iterations=100000, learning_rate=0.01, lambda_reg=0.02):\n",
    "    \"\"\"\n",
    "    Factorizes the matrix A into the product of two matrices U and V using SGD.\n",
    "    A: Adjacency matrix\n",
    "    K: Number of latent features\n",
    "    iterations: Number of iterations for SGD\n",
    "    learning_rate: Learning rate for SGD updates\n",
    "    lambda_reg: Regularization parameter\n",
    "    \"\"\"\n",
    "    N, M = A.shape\n",
    "    U = np.random.rand(N, K)\n",
    "    V = np.random.rand(M, K)\n",
    "    losses = []  # to store the loss values\n",
    "\n",
    "    # SGD iterations\n",
    "    for it in range(iterations):\n",
    "        # Randomly select a non-zero element from A\n",
    "        i, j = np.random.choice(N), np.random.choice(M)\n",
    "        if A[i, j] > 0:\n",
    "            # Compute prediction and error\n",
    "            pred = np.dot(U[i, :], V[j, :].T)\n",
    "            e = A[i, j] - pred\n",
    "\n",
    "            # Update U and V\n",
    "            U[i, :] += learning_rate * (e * V[j, :] - lambda_reg * U[i, :])\n",
    "            V[j, :] += learning_rate * (e * U[i, :] - lambda_reg * V[j, :])\n",
    "            \n",
    "            # Compute the loss for this iteration (simplified version)\n",
    "            loss = e**2\n",
    "            losses.append(loss)\n",
    "    \n",
    "    return U, V, losses\n",
    "\n",
    "K = 10  # example choice, this could be tuned\n",
    "U, V, losses = sgd_factorize(A_sgd_factorize, K, learning_rate=0.1)\n",
    "\n",
    "reconstructed_A_sgd_factorize = np.dot(U, V.T)"
   ],
   "metadata": {
    "collapsed": false,
    "ExecuteTime": {
     "end_time": "2023-12-03T22:36:04.555416Z",
     "start_time": "2023-12-03T22:36:03.356166Z"
    }
   },
   "id": "2655006657ea94a3"
  },
  {
   "cell_type": "code",
   "execution_count": 12,
   "outputs": [
    {
     "name": "stdout",
     "output_type": "stream",
     "text": [
      "882503\n",
      "2577\n",
      "Precision: 0.00 Recall: 0.72 F1 Score: 0.00\n"
     ]
    },
    {
     "data": {
      "text/plain": "<Figure size 640x480 with 1 Axes>",
      "image/png": "[encoded data removed]"
     },
     "metadata": {},
     "output_type": "display_data"
    }
   ],
   "source": [
    "# Assuming U and V are the factorized matrices and you've reconstructed A as reconstructed_A\n",
    "threshold = 1 #Example threshold for determining an edge\n",
    "sgd_factorize_predicted_edges = set()\n",
    "\n",
    "for i in range(reconstructed_A_sgd_factorize.shape[0]):\n",
    "    for j in range(reconstructed_A_sgd_factorize.shape[1]):\n",
    "        if i != j and reconstructed_A_sgd_factorize[i, j] >= threshold:  # Assuming no self-loops\n",
    "            node_i = node_list[i]\n",
    "            node_j = node_list[j]\n",
    "            sgd_factorize_predicted_edges.add((node_i, node_j))\n",
    "\n",
    "print(len(sgd_factorize_predicted_edges))\n",
    "print(len(removed_edges))\n",
    "assess_accuracy(sgd_factorize_predicted_edges, removed_edges)\n",
    "\n",
    "# Plot the learning curve\n",
    "plt.plot(losses, label='Training loss')\n",
    "plt.xlabel('Iteration')\n",
    "plt.ylabel('Loss')\n",
    "plt.title('Learning Curve for SGD Matrix Factorization')\n",
    "plt.legend()\n",
    "plt.show()"
   ],
   "metadata": {
    "collapsed": false,
    "ExecuteTime": {
     "end_time": "2023-12-03T22:36:09.268339Z",
     "start_time": "2023-12-03T22:36:08.353532Z"
    }
   },
   "id": "9c0a0ee19b1c4410"
  }
 ],
 "metadata": {
  "kernelspec": {
   "display_name": "Python 3",
   "language": "python",
   "name": "python3"
  },
  "language_info": {
   "codemirror_mode": {
    "name": "ipython",
    "version": 3
   },
   "file_extension": ".py",
   "mimetype": "text/x-python",
   "name": "python",
   "nbconvert_exporter": "python",
   "pygments_lexer": "ipython3",
   "version": "3.8.3"
  }
 },
 "nbformat": 4,
 "nbformat_minor": 5
}
