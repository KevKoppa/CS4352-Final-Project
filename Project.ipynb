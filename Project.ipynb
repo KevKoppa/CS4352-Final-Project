{
 "cells": [
  {
   "cell_type": "code",
   "execution_count": 26,
   "outputs": [],
   "source": [
    "import networkx as nx\n",
    "import pickle\n",
    "import matplotlib.pyplot as plt\n",
    "from collections import defaultdict\n",
    "import numpy as np\n",
    "import dgl\n",
    "import torch\n",
    "import torch.nn as nn\n",
    "import torch.nn.functional as F \n",
    "import random\n",
    "from sklearn.model_selection import train_test_split\n",
    "import community as community_louvain"
   ],
   "metadata": {
    "collapsed": false,
    "ExecuteTime": {
     "end_time": "2023-12-11T04:16:24.039338Z",
     "start_time": "2023-12-11T04:16:23.682353Z"
    }
   },
   "id": "4b86ce61652ed756"
  },
  {
   "cell_type": "code",
   "execution_count": 3,
   "outputs": [
    {
     "name": "stdout",
     "output_type": "stream",
     "text": [
      "('89351626', ['1556664198', '1554031', '21837654', '596876539'])\n"
     ]
    }
   ],
   "source": [
    "# importing all following data and putting in a graph\n",
    "pkl_file = open('Unfollower/15weeks_friend_dict.pkl', 'rb')\n",
    "mydict2 = pickle.load(pkl_file)\n",
    "pkl_file.close()\n",
    "\n",
    "week = 0\n",
    "for key, values in mydict2.items():\n",
    "    if len(values[week]) == 0:\n",
    "        mydict2[key] = []\n",
    "        continue\n",
    "    new = values[week][1]\n",
    "    mydict2[key] = new\n",
    "\n",
    "for i in mydict2.items():\n",
    "    print(i)\n",
    "    break\n",
    "# mydict2 has format:\n",
    "# user_id: [following_user_id1, following_user_id2...]"
   ],
   "metadata": {
    "collapsed": false,
    "ExecuteTime": {
     "start_time": "2023-12-11T03:59:13.921855Z"
    }
   },
   "id": "b4af407c3f780f9d"
  },
  {
   "cell_type": "code",
   "execution_count": 4,
   "outputs": [
    {
     "name": "stdout",
     "output_type": "stream",
     "text": [
      "118640\n",
      "971\n"
     ]
    }
   ],
   "source": [
    "# forrest fire sampling implementation and use \n",
    "def forest_fire_sampling(graph_dict, initial_burn_probability, secondary_burn_probability, max_samples=None):\n",
    "    # Choose a random start node\n",
    "    random.seed(947)\n",
    "    start_node = random.choice(list(graph_dict.keys()))\n",
    "    \n",
    "    # Force starting node to have at least 100 friends \n",
    "    if len(graph_dict[start_node]) < 100:\n",
    "        start_node = random.choice(list(graph_dict.keys()))\n",
    "    sampled_nodes = set([start_node])\n",
    "    burning_nodes = set([start_node])\n",
    "    \n",
    "    while burning_nodes:\n",
    "        new_burning_nodes = set()\n",
    "        for node in burning_nodes:\n",
    "            # For each neighbor, decide if it catches fire based on the burn probability\n",
    "            for neighbor in graph_dict[node]:\n",
    "                if neighbor not in sampled_nodes:\n",
    "                    if random.random() < (initial_burn_probability if node == start_node else secondary_burn_probability):\n",
    "                        new_burning_nodes.add(neighbor)\n",
    "                        sampled_nodes.add(neighbor)\n",
    "                        if max_samples and len(sampled_nodes) >= max_samples:\n",
    "                            return sampled_nodes\n",
    "        burning_nodes = new_burning_nodes\n",
    "\n",
    "    return sampled_nodes\n",
    "\n",
    "# sampling has undeterministic results where sample may have few nodes or many nodes depending on whether random starting node has many or few neighbors. We may want to force the starting node to have more than 10 friends. \n",
    "\n",
    "sample = forest_fire_sampling(mydict2, 0.2, 0.1, max_samples=1000)\n",
    "shortened_dict = defaultdict(list)\n",
    "print(len(mydict2))\n",
    "for k in mydict2:\n",
    "    if k in sample: \n",
    "        for v in mydict2[k]:\n",
    "            if v in sample: \n",
    "                shortened_dict[k].append(v)\n",
    "\n",
    "print(len(shortened_dict))"
   ],
   "metadata": {
    "collapsed": false,
    "ExecuteTime": {
     "start_time": "2023-12-11T03:59:38.701327Z"
    }
   },
   "id": "f90ee72edadb771"
  },
  {
   "cell_type": "code",
   "execution_count": 12,
   "outputs": [
    {
     "name": "stdout",
     "output_type": "stream",
     "text": [
      "1000\n"
     ]
    },
    {
     "ename": "AttributeError",
     "evalue": "module 'community' has no attribute 'best_partition'",
     "output_type": "error",
     "traceback": [
      "\u001B[0;31m---------------------------------------------------------------------------\u001B[0m",
      "\u001B[0;31mAttributeError\u001B[0m                            Traceback (most recent call last)",
      "\u001B[0;32m/var/folders/rk/x8250c_j4xv6115z61pg874c0000gn/T/ipykernel_3854/1439852137.py\u001B[0m in \u001B[0;36m<module>\u001B[0;34m\u001B[0m\n\u001B[1;32m      7\u001B[0m \u001B[0;34m\u001B[0m\u001B[0m\n\u001B[1;32m      8\u001B[0m \u001B[0mprint\u001B[0m\u001B[0;34m(\u001B[0m\u001B[0msubset_followers_graph\u001B[0m\u001B[0;34m.\u001B[0m\u001B[0mnumber_of_nodes\u001B[0m\u001B[0;34m(\u001B[0m\u001B[0;34m)\u001B[0m\u001B[0;34m)\u001B[0m\u001B[0;34m\u001B[0m\u001B[0;34m\u001B[0m\u001B[0m\n\u001B[0;32m----> 9\u001B[0;31m \u001B[0mpartition\u001B[0m \u001B[0;34m=\u001B[0m \u001B[0mcommunity_louvain\u001B[0m\u001B[0;34m.\u001B[0m\u001B[0mbest_partition\u001B[0m\u001B[0;34m(\u001B[0m\u001B[0msubset_followers_graph\u001B[0m\u001B[0;34m)\u001B[0m\u001B[0;34m\u001B[0m\u001B[0;34m\u001B[0m\u001B[0m\n\u001B[0m\u001B[1;32m     10\u001B[0m \u001B[0mcommunity_colors\u001B[0m \u001B[0;34m=\u001B[0m \u001B[0;34m{\u001B[0m\u001B[0mnode\u001B[0m\u001B[0;34m:\u001B[0m \u001B[0mpartition\u001B[0m\u001B[0;34m[\u001B[0m\u001B[0mnode\u001B[0m\u001B[0;34m]\u001B[0m \u001B[0;32mfor\u001B[0m \u001B[0mnode\u001B[0m \u001B[0;32min\u001B[0m \u001B[0msubset_followers_graph\u001B[0m\u001B[0;34m.\u001B[0m\u001B[0mnodes\u001B[0m\u001B[0;34m(\u001B[0m\u001B[0;34m)\u001B[0m\u001B[0;34m}\u001B[0m\u001B[0;34m\u001B[0m\u001B[0;34m\u001B[0m\u001B[0m\n\u001B[1;32m     11\u001B[0m \u001B[0mvalues\u001B[0m \u001B[0;34m=\u001B[0m \u001B[0;34m[\u001B[0m\u001B[0mcommunity_colors\u001B[0m\u001B[0;34m.\u001B[0m\u001B[0mget\u001B[0m\u001B[0;34m(\u001B[0m\u001B[0mnode\u001B[0m\u001B[0;34m)\u001B[0m \u001B[0;32mfor\u001B[0m \u001B[0mnode\u001B[0m \u001B[0;32min\u001B[0m \u001B[0msubset_followers_graph\u001B[0m\u001B[0;34m.\u001B[0m\u001B[0mnodes\u001B[0m\u001B[0;34m(\u001B[0m\u001B[0;34m)\u001B[0m\u001B[0;34m]\u001B[0m\u001B[0;34m\u001B[0m\u001B[0;34m\u001B[0m\u001B[0m\n",
      "\u001B[0;31mAttributeError\u001B[0m: module 'community' has no attribute 'best_partition'"
     ]
    }
   ],
   "source": [
    "# Creating sample graph and drawing it \n",
    "subset_followers_graph = nx.DiGraph()\n",
    "for k, v in shortened_dict.items():\n",
    "    for neighbor in v:\n",
    "        subset_followers_graph.add_edge(k, neighbor)\n",
    "\n",
    "print(subset_followers_graph.number_of_nodes())\n",
    "partition = community_louvain.best_partition(subset_followers_graph)\n",
    "community_colors = {node: partition[node] for node in subset_followers_graph.nodes()}\n",
    "values = [community_colors.get(node) for node in subset_followers_graph.nodes()]\n",
    "print(partition)"
   ]
  },
  {
   "cell_type": "code",
   "execution_count": 11,
   "outputs": [
    {
     "ename": "ValueError",
     "evalue": "'c' argument must be a color, a sequence of colors, or a sequence of numbers, not [[1, ['2878573575', '91265879', '314542575', '2933441', '541027577', '18970693', '5668172']], [2, ['2878573575', '91265879', '314542575', '2933441', '541027577', '18970693', '5668172']], [3, ['2878573575', '91265879', '314542575', '2933441', '541027577', '18970693', '5668172']], [4, ['2878573575', '91265879', '314542575', '2933441', '541027577', '18970693', '5668172']], [5, ['2878573575', '91265879', '314542575', '2933441', '541027577', '18970693', '5668172']], [6, ['2878573575', '91265879', '314542575', '2933441', '541027577', '18970693', '5668172']], [7, ['2878573575', '91265879', '314542575', '2933441', '541027577', '18970693', '5668172']], [8, ['2878573575', '91265879', '314542575', '2933441', '541027577', '18970693', '5668172']], [9, ['2878573575', '91265879', '314542575', '2933441', '541027577', '18970693', '5668172']], [10, ['2878573575', '91265879', '314542575', '2933441', '541027577', '18970693', '5668172']], [11, ['2878573575', '91265879', '314542575', '2933441', '541027577', '18970693', '5668172']], [12, ['2878573575', '91265879', '314542575', '2933441', '541027577', '18970693', '5668172']], [13, ['2878573575', '91265879', '314542575', '2933441', '541027577', '18970693', '5668172']], [14, ['2878573575', '91265879', '314542575', '2933441', '541027577', '18970693', '5668172']], [15, ['2878573575', '91265879', '314542575', '2933441', '541027577', '18970693', '5668172']]]",
     "output_type": "error",
     "traceback": [
      "\u001B[0;31m---------------------------------------------------------------------------\u001B[0m",
      "\u001B[0;31mValueError\u001B[0m                                Traceback (most recent call last)",
      "\u001B[0;32m~/anaconda3/envs/py37/lib/python3.7/site-packages/matplotlib/axes/_axes.py\u001B[0m in \u001B[0;36m_parse_scatter_color_args\u001B[0;34m(c, edgecolors, kwargs, xsize, get_next_color_func)\u001B[0m\n\u001B[1;32m   4219\u001B[0m             \u001B[0;32mtry\u001B[0m\u001B[0;34m:\u001B[0m  \u001B[0;31m# Is 'c' acceptable as PathCollection facecolors?\u001B[0m\u001B[0;34m\u001B[0m\u001B[0;34m\u001B[0m\u001B[0m\n\u001B[0;32m-> 4220\u001B[0;31m                 \u001B[0mcolors\u001B[0m \u001B[0;34m=\u001B[0m \u001B[0mmcolors\u001B[0m\u001B[0;34m.\u001B[0m\u001B[0mto_rgba_array\u001B[0m\u001B[0;34m(\u001B[0m\u001B[0mc\u001B[0m\u001B[0;34m)\u001B[0m\u001B[0;34m\u001B[0m\u001B[0;34m\u001B[0m\u001B[0m\n\u001B[0m\u001B[1;32m   4221\u001B[0m             \u001B[0;32mexcept\u001B[0m \u001B[0;34m(\u001B[0m\u001B[0mTypeError\u001B[0m\u001B[0;34m,\u001B[0m \u001B[0mValueError\u001B[0m\u001B[0;34m)\u001B[0m \u001B[0;32mas\u001B[0m \u001B[0merr\u001B[0m\u001B[0;34m:\u001B[0m\u001B[0;34m\u001B[0m\u001B[0;34m\u001B[0m\u001B[0m\n",
      "\u001B[0;32m~/anaconda3/envs/py37/lib/python3.7/site-packages/matplotlib/colors.py\u001B[0m in \u001B[0;36mto_rgba_array\u001B[0;34m(c, alpha)\u001B[0m\n\u001B[1;32m    374\u001B[0m         \u001B[0;32melse\u001B[0m\u001B[0;34m:\u001B[0m\u001B[0;34m\u001B[0m\u001B[0;34m\u001B[0m\u001B[0m\n\u001B[0;32m--> 375\u001B[0;31m             \u001B[0mrgba\u001B[0m \u001B[0;34m=\u001B[0m \u001B[0mnp\u001B[0m\u001B[0;34m.\u001B[0m\u001B[0marray\u001B[0m\u001B[0;34m(\u001B[0m\u001B[0;34m[\u001B[0m\u001B[0mto_rgba\u001B[0m\u001B[0;34m(\u001B[0m\u001B[0mcc\u001B[0m\u001B[0;34m)\u001B[0m \u001B[0;32mfor\u001B[0m \u001B[0mcc\u001B[0m \u001B[0;32min\u001B[0m \u001B[0mc\u001B[0m\u001B[0;34m]\u001B[0m\u001B[0;34m)\u001B[0m\u001B[0;34m\u001B[0m\u001B[0;34m\u001B[0m\u001B[0m\n\u001B[0m\u001B[1;32m    376\u001B[0m     \u001B[0;32melse\u001B[0m\u001B[0;34m:\u001B[0m\u001B[0;34m\u001B[0m\u001B[0;34m\u001B[0m\u001B[0m\n",
      "\u001B[0;32m~/anaconda3/envs/py37/lib/python3.7/site-packages/matplotlib/colors.py\u001B[0m in \u001B[0;36m<listcomp>\u001B[0;34m(.0)\u001B[0m\n\u001B[1;32m    374\u001B[0m         \u001B[0;32melse\u001B[0m\u001B[0;34m:\u001B[0m\u001B[0;34m\u001B[0m\u001B[0;34m\u001B[0m\u001B[0m\n\u001B[0;32m--> 375\u001B[0;31m             \u001B[0mrgba\u001B[0m \u001B[0;34m=\u001B[0m \u001B[0mnp\u001B[0m\u001B[0;34m.\u001B[0m\u001B[0marray\u001B[0m\u001B[0;34m(\u001B[0m\u001B[0;34m[\u001B[0m\u001B[0mto_rgba\u001B[0m\u001B[0;34m(\u001B[0m\u001B[0mcc\u001B[0m\u001B[0;34m)\u001B[0m \u001B[0;32mfor\u001B[0m \u001B[0mcc\u001B[0m \u001B[0;32min\u001B[0m \u001B[0mc\u001B[0m\u001B[0;34m]\u001B[0m\u001B[0;34m)\u001B[0m\u001B[0;34m\u001B[0m\u001B[0;34m\u001B[0m\u001B[0m\n\u001B[0m\u001B[1;32m    376\u001B[0m     \u001B[0;32melse\u001B[0m\u001B[0;34m:\u001B[0m\u001B[0;34m\u001B[0m\u001B[0;34m\u001B[0m\u001B[0m\n",
      "\u001B[0;32m~/anaconda3/envs/py37/lib/python3.7/site-packages/matplotlib/colors.py\u001B[0m in \u001B[0;36mto_rgba\u001B[0;34m(c, alpha)\u001B[0m\n\u001B[1;32m    186\u001B[0m     \u001B[0;32mif\u001B[0m \u001B[0mrgba\u001B[0m \u001B[0;32mis\u001B[0m \u001B[0;32mNone\u001B[0m\u001B[0;34m:\u001B[0m  \u001B[0;31m# Suppress exception chaining of cache lookup failure.\u001B[0m\u001B[0;34m\u001B[0m\u001B[0;34m\u001B[0m\u001B[0m\n\u001B[0;32m--> 187\u001B[0;31m         \u001B[0mrgba\u001B[0m \u001B[0;34m=\u001B[0m \u001B[0m_to_rgba_no_colorcycle\u001B[0m\u001B[0;34m(\u001B[0m\u001B[0mc\u001B[0m\u001B[0;34m,\u001B[0m \u001B[0malpha\u001B[0m\u001B[0;34m)\u001B[0m\u001B[0;34m\u001B[0m\u001B[0;34m\u001B[0m\u001B[0m\n\u001B[0m\u001B[1;32m    188\u001B[0m         \u001B[0;32mtry\u001B[0m\u001B[0;34m:\u001B[0m\u001B[0;34m\u001B[0m\u001B[0;34m\u001B[0m\u001B[0m\n",
      "\u001B[0;32m~/anaconda3/envs/py37/lib/python3.7/site-packages/matplotlib/colors.py\u001B[0m in \u001B[0;36m_to_rgba_no_colorcycle\u001B[0;34m(c, alpha)\u001B[0m\n\u001B[1;32m    270\u001B[0m     \u001B[0;32mif\u001B[0m \u001B[0mlen\u001B[0m\u001B[0;34m(\u001B[0m\u001B[0mc\u001B[0m\u001B[0;34m)\u001B[0m \u001B[0;32mnot\u001B[0m \u001B[0;32min\u001B[0m \u001B[0;34m[\u001B[0m\u001B[0;36m3\u001B[0m\u001B[0;34m,\u001B[0m \u001B[0;36m4\u001B[0m\u001B[0;34m]\u001B[0m\u001B[0;34m:\u001B[0m\u001B[0;34m\u001B[0m\u001B[0;34m\u001B[0m\u001B[0m\n\u001B[0;32m--> 271\u001B[0;31m         \u001B[0;32mraise\u001B[0m \u001B[0mValueError\u001B[0m\u001B[0;34m(\u001B[0m\u001B[0;34m\"RGBA sequence should have length 3 or 4\"\u001B[0m\u001B[0;34m)\u001B[0m\u001B[0;34m\u001B[0m\u001B[0;34m\u001B[0m\u001B[0m\n\u001B[0m\u001B[1;32m    272\u001B[0m     \u001B[0;32mif\u001B[0m \u001B[0;32mnot\u001B[0m \u001B[0mall\u001B[0m\u001B[0;34m(\u001B[0m\u001B[0misinstance\u001B[0m\u001B[0;34m(\u001B[0m\u001B[0mx\u001B[0m\u001B[0;34m,\u001B[0m \u001B[0mNumber\u001B[0m\u001B[0;34m)\u001B[0m \u001B[0;32mfor\u001B[0m \u001B[0mx\u001B[0m \u001B[0;32min\u001B[0m \u001B[0mc\u001B[0m\u001B[0;34m)\u001B[0m\u001B[0;34m:\u001B[0m\u001B[0;34m\u001B[0m\u001B[0;34m\u001B[0m\u001B[0m\n",
      "\u001B[0;31mValueError\u001B[0m: RGBA sequence should have length 3 or 4",
      "\nThe above exception was the direct cause of the following exception:\n",
      "\u001B[0;31mValueError\u001B[0m                                Traceback (most recent call last)",
      "\u001B[0;32m/var/folders/rk/x8250c_j4xv6115z61pg874c0000gn/T/ipykernel_3854/1246432037.py\u001B[0m in \u001B[0;36m<module>\u001B[0;34m\u001B[0m\n\u001B[1;32m      1\u001B[0m \u001B[0;31m# Draw the graph node\u001B[0m\u001B[0;34m\u001B[0m\u001B[0;34m\u001B[0m\u001B[0;34m\u001B[0m\u001B[0m\n\u001B[0;32m----> 2\u001B[0;31m \u001B[0mnx\u001B[0m\u001B[0;34m.\u001B[0m\u001B[0mdraw\u001B[0m\u001B[0;34m(\u001B[0m\u001B[0mcluster_subset_followers_graph\u001B[0m\u001B[0;34m,\u001B[0m \u001B[0mwith_labels\u001B[0m\u001B[0;34m=\u001B[0m\u001B[0;32mFalse\u001B[0m\u001B[0;34m,\u001B[0m \u001B[0mnode_size\u001B[0m\u001B[0;34m=\u001B[0m\u001B[0;36m20\u001B[0m\u001B[0;34m,\u001B[0m \u001B[0mnode_color\u001B[0m\u001B[0;34m=\u001B[0m\u001B[0mvalues\u001B[0m\u001B[0;34m)\u001B[0m\u001B[0;34m\u001B[0m\u001B[0;34m\u001B[0m\u001B[0m\n\u001B[0m\u001B[1;32m      3\u001B[0m \u001B[0;34m\u001B[0m\u001B[0m\n\u001B[1;32m      4\u001B[0m \u001B[0;31m# Display the graph\u001B[0m\u001B[0;34m\u001B[0m\u001B[0;34m\u001B[0m\u001B[0;34m\u001B[0m\u001B[0m\n\u001B[1;32m      5\u001B[0m \u001B[0mplt\u001B[0m\u001B[0;34m.\u001B[0m\u001B[0mshow\u001B[0m\u001B[0;34m(\u001B[0m\u001B[0;34m)\u001B[0m\u001B[0;34m\u001B[0m\u001B[0;34m\u001B[0m\u001B[0m\n",
      "\u001B[0;32m~/anaconda3/envs/py37/lib/python3.7/site-packages/networkx/drawing/nx_pylab.py\u001B[0m in \u001B[0;36mdraw\u001B[0;34m(G, pos, ax, **kwds)\u001B[0m\n\u001B[1;32m    119\u001B[0m         \u001B[0mkwds\u001B[0m\u001B[0;34m[\u001B[0m\u001B[0;34m\"with_labels\"\u001B[0m\u001B[0;34m]\u001B[0m \u001B[0;34m=\u001B[0m \u001B[0;34m\"labels\"\u001B[0m \u001B[0;32min\u001B[0m \u001B[0mkwds\u001B[0m\u001B[0;34m\u001B[0m\u001B[0;34m\u001B[0m\u001B[0m\n\u001B[1;32m    120\u001B[0m \u001B[0;34m\u001B[0m\u001B[0m\n\u001B[0;32m--> 121\u001B[0;31m     \u001B[0mdraw_networkx\u001B[0m\u001B[0;34m(\u001B[0m\u001B[0mG\u001B[0m\u001B[0;34m,\u001B[0m \u001B[0mpos\u001B[0m\u001B[0;34m=\u001B[0m\u001B[0mpos\u001B[0m\u001B[0;34m,\u001B[0m \u001B[0max\u001B[0m\u001B[0;34m=\u001B[0m\u001B[0max\u001B[0m\u001B[0;34m,\u001B[0m \u001B[0;34m**\u001B[0m\u001B[0mkwds\u001B[0m\u001B[0;34m)\u001B[0m\u001B[0;34m\u001B[0m\u001B[0;34m\u001B[0m\u001B[0m\n\u001B[0m\u001B[1;32m    122\u001B[0m     \u001B[0max\u001B[0m\u001B[0;34m.\u001B[0m\u001B[0mset_axis_off\u001B[0m\u001B[0;34m(\u001B[0m\u001B[0;34m)\u001B[0m\u001B[0;34m\u001B[0m\u001B[0;34m\u001B[0m\u001B[0m\n\u001B[1;32m    123\u001B[0m     \u001B[0mplt\u001B[0m\u001B[0;34m.\u001B[0m\u001B[0mdraw_if_interactive\u001B[0m\u001B[0;34m(\u001B[0m\u001B[0;34m)\u001B[0m\u001B[0;34m\u001B[0m\u001B[0;34m\u001B[0m\u001B[0m\n",
      "\u001B[0;32m~/anaconda3/envs/py37/lib/python3.7/site-packages/networkx/drawing/nx_pylab.py\u001B[0m in \u001B[0;36mdraw_networkx\u001B[0;34m(G, pos, arrows, with_labels, **kwds)\u001B[0m\n\u001B[1;32m    331\u001B[0m         \u001B[0mpos\u001B[0m \u001B[0;34m=\u001B[0m \u001B[0mnx\u001B[0m\u001B[0;34m.\u001B[0m\u001B[0mdrawing\u001B[0m\u001B[0;34m.\u001B[0m\u001B[0mspring_layout\u001B[0m\u001B[0;34m(\u001B[0m\u001B[0mG\u001B[0m\u001B[0;34m)\u001B[0m  \u001B[0;31m# default to spring layout\u001B[0m\u001B[0;34m\u001B[0m\u001B[0;34m\u001B[0m\u001B[0m\n\u001B[1;32m    332\u001B[0m \u001B[0;34m\u001B[0m\u001B[0m\n\u001B[0;32m--> 333\u001B[0;31m     \u001B[0mdraw_networkx_nodes\u001B[0m\u001B[0;34m(\u001B[0m\u001B[0mG\u001B[0m\u001B[0;34m,\u001B[0m \u001B[0mpos\u001B[0m\u001B[0;34m,\u001B[0m \u001B[0;34m**\u001B[0m\u001B[0mnode_kwds\u001B[0m\u001B[0;34m)\u001B[0m\u001B[0;34m\u001B[0m\u001B[0;34m\u001B[0m\u001B[0m\n\u001B[0m\u001B[1;32m    334\u001B[0m     \u001B[0mdraw_networkx_edges\u001B[0m\u001B[0;34m(\u001B[0m\u001B[0mG\u001B[0m\u001B[0;34m,\u001B[0m \u001B[0mpos\u001B[0m\u001B[0;34m,\u001B[0m \u001B[0marrows\u001B[0m\u001B[0;34m=\u001B[0m\u001B[0marrows\u001B[0m\u001B[0;34m,\u001B[0m \u001B[0;34m**\u001B[0m\u001B[0medge_kwds\u001B[0m\u001B[0;34m)\u001B[0m\u001B[0;34m\u001B[0m\u001B[0;34m\u001B[0m\u001B[0m\n\u001B[1;32m    335\u001B[0m     \u001B[0;32mif\u001B[0m \u001B[0mwith_labels\u001B[0m\u001B[0;34m:\u001B[0m\u001B[0;34m\u001B[0m\u001B[0;34m\u001B[0m\u001B[0m\n",
      "\u001B[0;32m~/anaconda3/envs/py37/lib/python3.7/site-packages/networkx/drawing/nx_pylab.py\u001B[0m in \u001B[0;36mdraw_networkx_nodes\u001B[0;34m(G, pos, nodelist, node_size, node_color, node_shape, alpha, cmap, vmin, vmax, ax, linewidths, edgecolors, label, margins)\u001B[0m\n\u001B[1;32m    472\u001B[0m         \u001B[0mlinewidths\u001B[0m\u001B[0;34m=\u001B[0m\u001B[0mlinewidths\u001B[0m\u001B[0;34m,\u001B[0m\u001B[0;34m\u001B[0m\u001B[0;34m\u001B[0m\u001B[0m\n\u001B[1;32m    473\u001B[0m         \u001B[0medgecolors\u001B[0m\u001B[0;34m=\u001B[0m\u001B[0medgecolors\u001B[0m\u001B[0;34m,\u001B[0m\u001B[0;34m\u001B[0m\u001B[0;34m\u001B[0m\u001B[0m\n\u001B[0;32m--> 474\u001B[0;31m         \u001B[0mlabel\u001B[0m\u001B[0;34m=\u001B[0m\u001B[0mlabel\u001B[0m\u001B[0;34m,\u001B[0m\u001B[0;34m\u001B[0m\u001B[0;34m\u001B[0m\u001B[0m\n\u001B[0m\u001B[1;32m    475\u001B[0m     )\n\u001B[1;32m    476\u001B[0m     ax.tick_params(\n",
      "\u001B[0;32m~/anaconda3/envs/py37/lib/python3.7/site-packages/matplotlib/__init__.py\u001B[0m in \u001B[0;36minner\u001B[0;34m(ax, data, *args, **kwargs)\u001B[0m\n\u001B[1;32m   1412\u001B[0m     \u001B[0;32mdef\u001B[0m \u001B[0minner\u001B[0m\u001B[0;34m(\u001B[0m\u001B[0max\u001B[0m\u001B[0;34m,\u001B[0m \u001B[0;34m*\u001B[0m\u001B[0margs\u001B[0m\u001B[0;34m,\u001B[0m \u001B[0mdata\u001B[0m\u001B[0;34m=\u001B[0m\u001B[0;32mNone\u001B[0m\u001B[0;34m,\u001B[0m \u001B[0;34m**\u001B[0m\u001B[0mkwargs\u001B[0m\u001B[0;34m)\u001B[0m\u001B[0;34m:\u001B[0m\u001B[0;34m\u001B[0m\u001B[0;34m\u001B[0m\u001B[0m\n\u001B[1;32m   1413\u001B[0m         \u001B[0;32mif\u001B[0m \u001B[0mdata\u001B[0m \u001B[0;32mis\u001B[0m \u001B[0;32mNone\u001B[0m\u001B[0;34m:\u001B[0m\u001B[0;34m\u001B[0m\u001B[0;34m\u001B[0m\u001B[0m\n\u001B[0;32m-> 1414\u001B[0;31m             \u001B[0;32mreturn\u001B[0m \u001B[0mfunc\u001B[0m\u001B[0;34m(\u001B[0m\u001B[0max\u001B[0m\u001B[0;34m,\u001B[0m \u001B[0;34m*\u001B[0m\u001B[0mmap\u001B[0m\u001B[0;34m(\u001B[0m\u001B[0msanitize_sequence\u001B[0m\u001B[0;34m,\u001B[0m \u001B[0margs\u001B[0m\u001B[0;34m)\u001B[0m\u001B[0;34m,\u001B[0m \u001B[0;34m**\u001B[0m\u001B[0mkwargs\u001B[0m\u001B[0;34m)\u001B[0m\u001B[0;34m\u001B[0m\u001B[0;34m\u001B[0m\u001B[0m\n\u001B[0m\u001B[1;32m   1415\u001B[0m \u001B[0;34m\u001B[0m\u001B[0m\n\u001B[1;32m   1416\u001B[0m         \u001B[0mbound\u001B[0m \u001B[0;34m=\u001B[0m \u001B[0mnew_sig\u001B[0m\u001B[0;34m.\u001B[0m\u001B[0mbind\u001B[0m\u001B[0;34m(\u001B[0m\u001B[0max\u001B[0m\u001B[0;34m,\u001B[0m \u001B[0;34m*\u001B[0m\u001B[0margs\u001B[0m\u001B[0;34m,\u001B[0m \u001B[0;34m**\u001B[0m\u001B[0mkwargs\u001B[0m\u001B[0;34m)\u001B[0m\u001B[0;34m\u001B[0m\u001B[0;34m\u001B[0m\u001B[0m\n",
      "\u001B[0;32m~/anaconda3/envs/py37/lib/python3.7/site-packages/matplotlib/axes/_axes.py\u001B[0m in \u001B[0;36mscatter\u001B[0;34m(self, x, y, s, c, marker, cmap, norm, vmin, vmax, alpha, linewidths, edgecolors, plotnonfinite, **kwargs)\u001B[0m\n\u001B[1;32m   4386\u001B[0m             self._parse_scatter_color_args(\n\u001B[1;32m   4387\u001B[0m                 \u001B[0mc\u001B[0m\u001B[0;34m,\u001B[0m \u001B[0medgecolors\u001B[0m\u001B[0;34m,\u001B[0m \u001B[0mkwargs\u001B[0m\u001B[0;34m,\u001B[0m \u001B[0mx\u001B[0m\u001B[0;34m.\u001B[0m\u001B[0msize\u001B[0m\u001B[0;34m,\u001B[0m\u001B[0;34m\u001B[0m\u001B[0;34m\u001B[0m\u001B[0m\n\u001B[0;32m-> 4388\u001B[0;31m                 get_next_color_func=self._get_patches_for_fill.get_next_color)\n\u001B[0m\u001B[1;32m   4389\u001B[0m \u001B[0;34m\u001B[0m\u001B[0m\n\u001B[1;32m   4390\u001B[0m         \u001B[0;32mif\u001B[0m \u001B[0mplotnonfinite\u001B[0m \u001B[0;32mand\u001B[0m \u001B[0mcolors\u001B[0m \u001B[0;32mis\u001B[0m \u001B[0;32mNone\u001B[0m\u001B[0;34m:\u001B[0m\u001B[0;34m\u001B[0m\u001B[0;34m\u001B[0m\u001B[0m\n",
      "\u001B[0;32m~/anaconda3/envs/py37/lib/python3.7/site-packages/matplotlib/axes/_axes.py\u001B[0m in \u001B[0;36m_parse_scatter_color_args\u001B[0;34m(c, edgecolors, kwargs, xsize, get_next_color_func)\u001B[0m\n\u001B[1;32m   4229\u001B[0m                     raise ValueError(\n\u001B[1;32m   4230\u001B[0m                         \u001B[0;34mf\"'c' argument must be a color, a sequence of colors, \"\u001B[0m\u001B[0;34m\u001B[0m\u001B[0;34m\u001B[0m\u001B[0m\n\u001B[0;32m-> 4231\u001B[0;31m                         f\"or a sequence of numbers, not {c}\") from err\n\u001B[0m\u001B[1;32m   4232\u001B[0m             \u001B[0;32melse\u001B[0m\u001B[0;34m:\u001B[0m\u001B[0;34m\u001B[0m\u001B[0;34m\u001B[0m\u001B[0m\n\u001B[1;32m   4233\u001B[0m                 \u001B[0;32mif\u001B[0m \u001B[0mlen\u001B[0m\u001B[0;34m(\u001B[0m\u001B[0mcolors\u001B[0m\u001B[0;34m)\u001B[0m \u001B[0;32mnot\u001B[0m \u001B[0;32min\u001B[0m \u001B[0;34m(\u001B[0m\u001B[0;36m0\u001B[0m\u001B[0;34m,\u001B[0m \u001B[0;36m1\u001B[0m\u001B[0;34m,\u001B[0m \u001B[0mxsize\u001B[0m\u001B[0;34m)\u001B[0m\u001B[0;34m:\u001B[0m\u001B[0;34m\u001B[0m\u001B[0;34m\u001B[0m\u001B[0m\n",
      "\u001B[0;31mValueError\u001B[0m: 'c' argument must be a color, a sequence of colors, or a sequence of numbers, not [[1, ['2878573575', '91265879', '314542575', '2933441', '541027577', '18970693', '5668172']], [2, ['2878573575', '91265879', '314542575', '2933441', '541027577', '18970693', '5668172']], [3, ['2878573575', '91265879', '314542575', '2933441', '541027577', '18970693', '5668172']], [4, ['2878573575', '91265879', '314542575', '2933441', '541027577', '18970693', '5668172']], [5, ['2878573575', '91265879', '314542575', '2933441', '541027577', '18970693', '5668172']], [6, ['2878573575', '91265879', '314542575', '2933441', '541027577', '18970693', '5668172']], [7, ['2878573575', '91265879', '314542575', '2933441', '541027577', '18970693', '5668172']], [8, ['2878573575', '91265879', '314542575', '2933441', '541027577', '18970693', '5668172']], [9, ['2878573575', '91265879', '314542575', '2933441', '541027577', '18970693', '5668172']], [10, ['2878573575', '91265879', '314542575', '2933441', '541027577', '18970693', '5668172']], [11, ['2878573575', '91265879', '314542575', '2933441', '541027577', '18970693', '5668172']], [12, ['2878573575', '91265879', '314542575', '2933441', '541027577', '18970693', '5668172']], [13, ['2878573575', '91265879', '314542575', '2933441', '541027577', '18970693', '5668172']], [14, ['2878573575', '91265879', '314542575', '2933441', '541027577', '18970693', '5668172']], [15, ['2878573575', '91265879', '314542575', '2933441', '541027577', '18970693', '5668172']]]"
     ]
    },
    {
     "data": {
      "text/plain": "<Figure size 640x480 with 1 Axes>",
      "image/png": "[encoded data removed]"
     },
     "metadata": {},
     "output_type": "display_data"
    }
   ],
   "source": [
    "# Draw the graph node\n",
    "nx.draw(subset_followers_graph, with_labels=False, node_size=20, node_color=values)\n",
    "\n",
    "# Display the graph\n",
    "plt.show()"
   ],
   "metadata": {
    "collapsed": false,
    "ExecuteTime": {
     "start_time": "2023-12-11T04:04:07.204352Z"
    }
   },
   "id": "740e3277593143b2"
  },
  {
   "cell_type": "code",
   "execution_count": 16,
   "id": "a5e8442a92403e29",
   "metadata": {
    "ExecuteTime": {
     "end_time": "2023-12-11T04:06:36.121693Z",
     "start_time": "2023-12-11T04:06:36.110342Z"
    }
   },
   "outputs": [
    {
     "name": "stdout",
     "output_type": "stream",
     "text": [
      "edges before removal: 25192\n",
      "edges after removal: 22673\n",
      "density: 0.022695695695695697\n"
     ]
    }
   ],
   "source": [
    "removed_edges_graph = subset_followers_graph.copy()\n",
    "print(\"edges before removal:\",removed_edges_graph.number_of_edges())\n",
    "def remove_edges(G, k):\n",
    "    # Calculate the number of edges to remove (10% of total edges)\n",
    "    num_edges_to_remove = int(k * G.number_of_edges())\n",
    "    \n",
    "    # Get the list of all edges in the graph\n",
    "    all_edges = list(G.edges())\n",
    "    random.seed(947)\n",
    "    # Randomly select edges to remove\n",
    "    removed_edges = random.sample(all_edges, num_edges_to_remove)\n",
    "    \n",
    "    # Remove the selected edges from the graph\n",
    "    G.remove_edges_from(removed_edges)\n",
    "    \n",
    "    return set(removed_edges)\n",
    "\n",
    "removed_edges = remove_edges(removed_edges_graph,0.1)\n",
    "removed_nodes_set = set()\n",
    "for edge in removed_edges:\n",
    "    removed_nodes_set.add(edge[0])\n",
    "print(\"edges after removal:\", removed_edges_graph.number_of_edges())\n",
    "print(f\"density: {nx.density(removed_edges_graph)}\")"
   ]
  },
  {
   "cell_type": "code",
   "execution_count": 18,
   "id": "de36bb3800d32cb4",
   "metadata": {
    "ExecuteTime": {
     "end_time": "2023-12-11T04:06:52.200146Z",
     "start_time": "2023-12-11T04:06:52.130353Z"
    }
   },
   "outputs": [],
   "source": [
    "def jaccard_prediction(G, k):\n",
    "    predictions = {}\n",
    "    \n",
    "    # Iterate through each node in the graph\n",
    "    for node1 in removed_nodes_set:\n",
    "        node1_friends = set(G.neighbors(node1))\n",
    "        scores = []\n",
    "        \n",
    "        for node2 in list(G.nodes()):\n",
    "            # Skip if comparing the same node\n",
    "            if node1==node2: continue\n",
    "            \n",
    "            # Skip if there is already an edge between the two nodes\n",
    "            if G.has_edge(node1, node2): continue\n",
    "            \n",
    "            node2_friends = set(G.neighbors(node2))\n",
    "            \n",
    "            # Calculate Jaccard similarity score\n",
    "            total_friends = node1_friends.union(node2_friends)\n",
    "            numerator = sorted(w for w in node1_friends if w in node2_friends)\n",
    "            \n",
    "            if len(total_friends)==0: score=0\n",
    "            else: score = len(numerator)/len(total_friends)\n",
    "            \n",
    "            scores.append([node2, score])\n",
    "        \n",
    "        predicted_links = list(filter(lambda x: x[1] > k, scores))\n",
    "        if len(predicted_links)>0:\n",
    "            predictions[node1] = predicted_links\n",
    "    \n",
    "    predicted_edges = set()\n",
    "    \n",
    "     # Add the predicted edges from the 'predictions' dictionary\n",
    "    for node1,scores in predictions.items():\n",
    "        for node2 in scores:\n",
    "            predicted_edges.add((node1, node2[0]))\n",
    "            \n",
    "    return predicted_edges"
   ]
  },
  {
   "cell_type": "code",
   "execution_count": 19,
   "id": "3baf9ba8c49ab75",
   "metadata": {
    "ExecuteTime": {
     "end_time": "2023-12-11T04:06:54.602767Z",
     "start_time": "2023-12-11T04:06:54.592372Z"
    }
   },
   "outputs": [],
   "source": [
    "def preferential_attachment_prediction(G, k):\n",
    "    predictions = {}\n",
    "    \n",
    "     # Iterate through each node in the graph\n",
    "    for node1 in removed_nodes_set:\n",
    "        scores = []\n",
    "        \n",
    "        for node2 in list(G.nodes()):\n",
    "            if node1==node2: continue\n",
    "            if G.has_edge(node1, node2): continue\n",
    "            \n",
    "            # Calculate preferential attachment score\n",
    "            score = G.degree(node1) * G.degree(node2)\n",
    "            scores.append([node2, score])\n",
    "        \n",
    "        predicted_links = list(filter(lambda x: x[1] > k, scores))\n",
    "        if len(predicted_links)>0:\n",
    "            predictions[node1] = predicted_links\n",
    "            \n",
    "    predicted_edges = set()\n",
    "    \n",
    "    # Add the predicted edges from the 'predictions' dictionary\n",
    "    for node1,scores in predictions.items():\n",
    "        for node2 in scores:\n",
    "            predicted_edges.add((node1, node2[0]))\n",
    "    return predicted_edges\n"
   ]
  },
  {
   "cell_type": "code",
   "execution_count": 23,
   "outputs": [],
   "source": [
    "import math\n",
    "\n",
    "# adamic adar index prediction\n",
    "# input: graph, threshold k\n",
    "# output: list of predicted edges\n",
    "def adamic_adar_prediction(G, k):\n",
    "    predictions = {}\n",
    "\n",
    "     # Iterate through each node in the graph\n",
    "    for node1 in removed_nodes_set:\n",
    "        scores = []\n",
    "        node1_friends =set(G.neighbors(node1))\n",
    "        for node2 in list(G.nodes()):\n",
    "            if node1==node2: continue\n",
    "            if G.has_edge(node1, node2): continue\n",
    "            node2_friends = set(G.neighbors(node2))\n",
    "            common_friends = node1_friends.intersection(node2_friends)\n",
    "            # Calculate score\n",
    "            score = 0\n",
    "            for friend in common_friends:\n",
    "                friend_neighbors = len(list(G.neighbors(friend)))\n",
    "                if friend_neighbors==0 or friend_neighbors==1:\n",
    "                    continue\n",
    "                score += 1/math.log10(friend_neighbors)\n",
    "            scores.append([node2, score])\n",
    "\n",
    "        predicted_links = list(filter(lambda x: x[1] > k, scores))\n",
    "        if len(predicted_links)>0:\n",
    "            predictions[node1] = predicted_links\n",
    "\n",
    "    predicted_edges = set()\n",
    "\n",
    "    # Add the predicted edges from the 'predictions' dictionary\n",
    "    for node1,scores in predictions.items():\n",
    "        for node2 in scores:\n",
    "            predicted_edges.add((node1, node2[0]))\n",
    "    return predicted_edges"
   ],
   "metadata": {
    "collapsed": false,
    "ExecuteTime": {
     "end_time": "2023-12-11T04:11:07.684065Z",
     "start_time": "2023-12-11T04:11:07.611177Z"
    }
   },
   "id": "8cc4e7e928d59b93"
  },
  {
   "cell_type": "code",
   "execution_count": 14,
   "id": "64f1d6b1dc2d85f1",
   "metadata": {
    "ExecuteTime": {
     "end_time": "2023-12-11T04:06:14.980692Z",
     "start_time": "2023-12-11T04:06:14.974929Z"
    }
   },
   "outputs": [],
   "source": [
    "def assess_accuracy(predicted_edges, actual_edges):\n",
    "    actual_edge_set = set(actual_edges)\n",
    "    predicted_edge_set = set(predicted_edges)\n",
    "    \n",
    "    # Calculate True Positive, False Positive, True Negative, False Negative\n",
    "    true_positive = len(actual_edge_set.intersection(predicted_edge_set))\n",
    "    false_positive = len(predicted_edge_set - actual_edge_set)\n",
    "    false_negative = len(actual_edge_set - predicted_edge_set)\n",
    "    \n",
    "    # Calculate precision, recall, and f1 score\n",
    "    \n",
    "    # accuracy of positive predictions - if we predicted edge, is there actually edge?\n",
    "    precision = true_positive / (true_positive + false_positive)\n",
    "    \n",
    "    # if there is edge, % of time we predict edge accurately?\n",
    "    recall = true_positive / (true_positive + false_negative)\n",
    "    \n",
    "    # means of balancing\n",
    "    if precision == 0 and recall == 0: f1_score = 0\n",
    "    else: f1_score = 2 * (precision * recall) / (precision + recall)\n",
    "    \n",
    "    # Print the results\n",
    "    print(f\"Precision: {precision:.2f}\", end=\" \")\n",
    "    print(f\"Recall: {recall:.2f}\", end = \" \")\n",
    "    print(f\"F1 Score: {f1_score:.2f}\")"
   ]
  },
  {
   "cell_type": "code",
   "execution_count": 24,
   "id": "6e98659b80d92728",
   "metadata": {
    "ExecuteTime": {
     "end_time": "2023-12-11T04:12:01.545770Z",
     "start_time": "2023-12-11T04:11:12.881276Z"
    }
   },
   "outputs": [
    {
     "name": "stdout",
     "output_type": "stream",
     "text": [
      "Jaccard\n",
      "k=0:\n",
      "Precision: 0.01 Recall: 0.90 F1 Score: 0.02\n",
      "k=0.1:\n",
      "Precision: 0.04 Recall: 0.42 F1 Score: 0.07\n",
      "k=0.2:\n",
      "Precision: 0.09 Recall: 0.15 F1 Score: 0.11\n",
      "k=0.30000000000000004:\n",
      "Precision: 0.21 Recall: 0.05 F1 Score: 0.07\n",
      "k=0.4:\n",
      "Precision: 0.42 Recall: 0.01 F1 Score: 0.01\n",
      "k=0.5:\n",
      "Precision: 0.67 Recall: 0.00 F1 Score: 0.00\n",
      "k=0.6:\n",
      "Precision: 0.67 Recall: 0.00 F1 Score: 0.00\n",
      "Preferential\n",
      "k=10000:\n",
      "Precision: 0.02 Recall: 0.22 F1 Score: 0.04\n",
      "k=20000:\n",
      "Precision: 0.04 Recall: 0.05 F1 Score: 0.05\n",
      "k=30000:\n",
      "Precision: 0.06 Recall: 0.01 F1 Score: 0.02\n",
      "k=40000:\n",
      "Precision: 0.08 Recall: 0.00 F1 Score: 0.01\n",
      "k=50000:\n",
      "Precision: 0.17 Recall: 0.00 F1 Score: 0.00\n",
      "k=60000:\n",
      "Precision: 0.43 Recall: 0.00 F1 Score: 0.00\n",
      "k=70000:\n",
      "Precision: 0.00 Recall: 0.00 F1 Score: 0.00\n",
      "Adamic-Adar\n",
      "k=5:\n",
      "Precision: 0.04 Recall: 0.41 F1 Score: 0.07\n",
      "k=10:\n",
      "Precision: 0.08 Recall: 0.17 F1 Score: 0.11\n",
      "k=15:\n",
      "Precision: 0.13 Recall: 0.08 F1 Score: 0.10\n",
      "k=20:\n",
      "Precision: 0.21 Recall: 0.04 F1 Score: 0.06\n",
      "k=25:\n",
      "Precision: 0.26 Recall: 0.01 F1 Score: 0.03\n",
      "k=30:\n",
      "Precision: 0.39 Recall: 0.01 F1 Score: 0.02\n",
      "k=35:\n",
      "Precision: 0.33 Recall: 0.00 F1 Score: 0.01\n",
      "k=40:\n",
      "Precision: 0.14 Recall: 0.00 F1 Score: 0.00\n",
      "k=45:\n",
      "Precision: 0.00 Recall: 0.00 F1 Score: 0.00\n"
     ]
    }
   ],
   "source": [
    "# Jaccard prediction loop\n",
    "print(\"Jaccard\")\n",
    "k = 0\n",
    "\n",
    "while k < 1:\n",
    "    jaccard_coefficient_graph_copy = removed_edges_graph.copy()\n",
    "    jaccard_predicted_edges = jaccard_prediction(jaccard_coefficient_graph_copy, k)\n",
    "    if len(jaccard_predicted_edges) == 0:\n",
    "        break\n",
    "    print(f\"k={k}:\")\n",
    "    assess_accuracy(jaccard_predicted_edges, removed_edges)\n",
    "    k += 0.1\n",
    "\n",
    "# Preferential attachment prediction loop\n",
    "print(\"Preferential\")\n",
    "k = 10000\n",
    "\n",
    "while k < 100000:\n",
    "    preferential_graph_copy = removed_edges_graph.copy()\n",
    "    preferential_predicted_edges = preferential_attachment_prediction(preferential_graph_copy, k)\n",
    "    if len(preferential_predicted_edges) == 0:\n",
    "        break\n",
    "    print(f\"k={k}:\")\n",
    "    assess_accuracy(preferential_predicted_edges, removed_edges)\n",
    "    k += 10000\n",
    "    \n",
    "print(\"Adamic-Adar\")\n",
    "k=5\n",
    "while k < 50:\n",
    "    adamic_graph_copy = removed_edges_graph.copy()\n",
    "    adamic_predicted_edges = adamic_adar_prediction(adamic_graph_copy, k)\n",
    "    if len(adamic_predicted_edges) == 0:\n",
    "        break\n",
    "    print(f\"k={k}:\")\n",
    "    assess_accuracy(adamic_predicted_edges, removed_edges)\n",
    "    k += 5"
   ]
  },
  {
   "cell_type": "code",
   "execution_count": 25,
   "id": "2655006657ea94a3",
   "metadata": {
    "ExecuteTime": {
     "end_time": "2023-12-11T04:15:25.075047Z",
     "start_time": "2023-12-11T04:14:03.648663Z"
    }
   },
   "outputs": [
    {
     "name": "stdout",
     "output_type": "stream",
     "text": [
      "k=10, lr=0.01, lambda_reg=0.02\n",
      "Precision: 0.00 Recall: 0.69 F1 Score: 0.01\n"
     ]
    },
    {
     "data": {
      "text/plain": "<Figure size 640x480 with 1 Axes>",
      "image/png": "[encoded data removed]"
     },
     "metadata": {},
     "output_type": "display_data"
    },
    {
     "name": "stdout",
     "output_type": "stream",
     "text": [
      "k=10, lr=0.01, lambda_reg=0.1\n",
      "Precision: 0.00 Recall: 0.68 F1 Score: 0.01\n",
      "k=10, lr=0.1, lambda_reg=0.02\n",
      "Precision: 0.00 Recall: 0.67 F1 Score: 0.01\n",
      "k=10, lr=0.1, lambda_reg=0.1\n",
      "Precision: 0.00 Recall: 0.69 F1 Score: 0.01\n",
      "k=100, lr=0.01, lambda_reg=0.02\n",
      "Precision: 0.00 Recall: 0.66 F1 Score: 0.01\n",
      "k=100, lr=0.01, lambda_reg=0.1\n",
      "Precision: 0.00 Recall: 0.67 F1 Score: 0.01\n",
      "k=100, lr=0.1, lambda_reg=0.02\n",
      "Precision: 0.00 Recall: 0.68 F1 Score: 0.01\n",
      "k=100, lr=0.1, lambda_reg=0.1\n",
      "Precision: 0.00 Recall: 0.68 F1 Score: 0.01\n"
     ]
    }
   ],
   "source": [
    "# Get adjacency matrix\n",
    "node_list = list(removed_edges_graph.nodes())\n",
    "\n",
    "# Create a dictionary that maps node to index\n",
    "node_to_index = {node: index for index, node in enumerate(node_list)}\n",
    "\n",
    "A_sgd_factorize = nx.to_numpy_array(removed_edges_graph, nodelist=node_list)\n",
    "\n",
    "def sgd_factorize(A, K, iterations=1000000, learning_rate=0.01, lambda_reg=0.02):\n",
    "    \"\"\"\n",
    "    Factorizes the matrix A into the product of two matrices U and V using SGD.\n",
    "    A: Adjacency matrix\n",
    "    K: Number of latent features\n",
    "    iterations: Number of iterations for SGD\n",
    "    learning_rate: Learning rate for SGD updates\n",
    "    lambda_reg: Regularization parameter\n",
    "    \"\"\"\n",
    "    N, M = A.shape\n",
    "    U = np.random.rand(N, K)\n",
    "    V = np.random.rand(M, K)\n",
    "    losses = [] \n",
    "\n",
    "    # SGD iterations\n",
    "    for it in range(iterations):\n",
    "        # Randomly select a non-zero element from A\n",
    "        i, j = np.random.choice(N), np.random.choice(M)\n",
    "        if A[i, j] > 0:\n",
    "            # Compute prediction and error\n",
    "            pred = np.dot(U[i, :], V[j, :].T)\n",
    "            e = A[i, j] - pred\n",
    "\n",
    "            # Update U and V\n",
    "            U[i, :] += learning_rate * (e * V[j, :] - lambda_reg * U[i, :])\n",
    "            V[j, :] += learning_rate * (e * U[i, :] - lambda_reg * V[j, :])\n",
    "            \n",
    "            # Compute the loss for this iteration\n",
    "            loss = e**2\n",
    "            losses.append(loss)\n",
    "    reconstructed_A_sgd_factorize = np.dot(U, V.T)\n",
    "    matrix_factorization_prediction(U, V, losses, reconstructed_A_sgd_factorize)\n",
    "    \n",
    "    return losses\n",
    "\n",
    "# Assuming U and V are the factorized matrices and you've reconstructed A as reconstructed_A\n",
    "threshold = 0.9 #Example threshold for determining an edge\n",
    "\n",
    "def matrix_factorization_prediction(U, V, losses, reconstructed_A_sgd_factorize):\n",
    "    sgd_factorize_predicted_edges = set()\n",
    "    \n",
    "    for i in range(reconstructed_A_sgd_factorize.shape[0]):\n",
    "        # only give link predictions for removed nodes set\n",
    "        if node_list[i] not in removed_nodes_set:\n",
    "            continue\n",
    "        for j in range(reconstructed_A_sgd_factorize.shape[1]):\n",
    "            if i != j and reconstructed_A_sgd_factorize[i, j] >= threshold and A_sgd_factorize[i][j] != 1:   # Assuming no self-loops\n",
    "                node_i = node_list[i]\n",
    "                node_j = node_list[j]\n",
    "                sgd_factorize_predicted_edges.add((node_i, node_j))\n",
    "\n",
    "    assess_accuracy(sgd_factorize_predicted_edges, removed_edges)\n",
    "\n",
    "print_graph = True\n",
    "for k in [10, 100]:\n",
    "    for lr in [0.01, 0.1]:\n",
    "        for lambda_reg in [0.02, 0.1]:\n",
    "            print(f'k={k}, lr={lr}, lambda_reg={lambda_reg}')\n",
    "            losses = sgd_factorize(A_sgd_factorize, 10, learning_rate=0.1)\n",
    "            if print_graph:\n",
    "                plt.plot(losses, label='Training loss')\n",
    "                plt.xlabel('Iteration')\n",
    "                plt.ylabel('Loss')\n",
    "                plt.title('Learning Curve for SGD Matrix Factorization')\n",
    "                plt.legend()\n",
    "                plt.show()\n",
    "                print_graph = False"
   ]
  },
  {
   "cell_type": "code",
   "execution_count": 28,
   "id": "3fbbc69425dd2e01",
   "metadata": {
    "ExecuteTime": {
     "end_time": "2023-12-11T04:17:27.727212Z",
     "start_time": "2023-12-11T04:17:27.670820Z"
    }
   },
   "outputs": [],
   "source": [
    "edge_list = list(subset_followers_graph.edges())\n",
    "node_list = list(subset_followers_graph.nodes())\n",
    "num_nodes = len(node_list)\n",
    "\n",
    "# Create a dictionary that maps node to index\n",
    "node_to_i = {node: index for index, node in enumerate(node_list)}\n",
    "edges = [(node_to_i[edge[0]], node_to_i[edge[1]]) for edge in edge_list]"
   ]
  },
  {
   "cell_type": "code",
   "execution_count": 30,
   "id": "d728000d5e171365",
   "metadata": {
    "ExecuteTime": {
     "end_time": "2023-12-11T04:17:42.955109Z",
     "start_time": "2023-12-11T04:17:42.945143Z"
    }
   },
   "outputs": [],
   "source": [
    "# Labels for existent edges\n",
    "labels = [1] * len(edges)\n",
    "\n",
    "# Generate non-existent edges and labels\n",
    "num_fake_edges = len(edges)\n",
    "fake_edges = []\n",
    "fake_labels = [0] * num_fake_edges\n",
    "edge_set = set(edge for edge in edges)\n",
    "for _ in range(num_fake_edges):\n",
    "    # Generate random nodes for fake edges\n",
    "    fake_edge = (random.randint(0, num_nodes-1), random.randint(0, num_nodes-1))\n",
    "    \n",
    "    while fake_edge in edge_set:\n",
    "        fake_edge = (random.randint(0, num_nodes-1), random.randint(0, num_nodes-1))\n",
    "     \n",
    "    fake_edges.append(fake_edge)\n",
    "    edge_set.add(fake_edge)\n",
    "\n",
    "all_edges = edges + fake_edges\n",
    "all_labels = labels + fake_labels"
   ]
  },
  {
   "cell_type": "code",
   "execution_count": 34,
   "id": "9cf8398acaf4f0b1",
   "metadata": {
    "ExecuteTime": {
     "end_time": "2023-12-11T04:20:33.653877Z",
     "start_time": "2023-12-11T04:20:33.597992Z"
    }
   },
   "outputs": [],
   "source": [
    "# Change 200 to the sum of our real edges + fake edges\n",
    "indices = list(range(num_fake_edges + len(edges)))\n",
    "num_tot_edges = len(indices)\n",
    "random_seed = 42\n",
    "\n",
    "random.seed(random_seed)\n",
    "random.shuffle(indices)\n",
    "\n",
    "# Change 180 to be 85% of the edges\n",
    "train_indices, test_indices = indices[:int(.85*num_tot_edges)], indices[int(.85*num_tot_edges):]\n",
    "X_train, X_test = train_test_split(all_edges, test_size=0.1, random_state=random_seed)\n",
    "y_train, y_test = train_test_split(all_labels, test_size=0.1, random_state=random_seed)"
   ]
  },
  {
   "cell_type": "code",
   "execution_count": 35,
   "id": "d3a9f8a7d688eb6d",
   "metadata": {
    "ExecuteTime": {
     "end_time": "2023-12-11T04:20:36.734902Z",
     "start_time": "2023-12-11T04:20:36.667451Z"
    }
   },
   "outputs": [
    {
     "name": "stdout",
     "output_type": "stream",
     "text": [
      "Epoch 1/10, Loss: 0.7248939275741577\n",
      "Epoch 2/10, Loss: 0.7076448798179626\n",
      "Epoch 3/10, Loss: 0.699104368686676\n",
      "Epoch 4/10, Loss: 0.6954208612442017\n",
      "Epoch 5/10, Loss: 0.6940374970436096\n",
      "Epoch 6/10, Loss: 0.6936229467391968\n",
      "Epoch 7/10, Loss: 0.6935721039772034\n",
      "Epoch 8/10, Loss: 0.6936314702033997\n",
      "Epoch 9/10, Loss: 0.6937041282653809\n",
      "Epoch 10/10, Loss: 0.6937577724456787\n"
     ]
    }
   ],
   "source": [
    "# GraphSage model\n",
    "dgl.load_backend('pytorch')\n",
    "class GraphSAGE(nn.Module):\n",
    "    def __init__(self, in_feats, hidden_size, out_feats):\n",
    "        super(GraphSAGE, self).__init__()\n",
    "        self.conv1 = dgl.nn.SAGEConv(in_feats, hidden_size, aggregator_type='mean')\n",
    "        self.conv2 = dgl.nn.SAGEConv(hidden_size, out_feats, aggregator_type='mean')\n",
    "\n",
    "    def forward(self, g, features):\n",
    "        # First GraphSAGE layer\n",
    "        x = F.relu(self.conv1(g, features))\n",
    "        # Second GraphSAGE layer\n",
    "        x = self.conv2(g, x)\n",
    "        return x\n",
    "\n",
    "# Edge prediction model using GraphSage \n",
    "class EdgePredictionModel(nn.Module):\n",
    "    def __init__(self, in_feats, hidden_size, out_feats):\n",
    "        super(EdgePredictionModel, self).__init__()\n",
    "        self.sage = GraphSAGE(in_feats, hidden_size, out_feats)\n",
    "\n",
    "    def forward(self, g, features):\n",
    "        # Obtain node representations using GraphSAGE\n",
    "        node_reps = self.sage(g, features)\n",
    "        # Edge prediction using dot product of node representations\n",
    "        src, dst = g.edges()\n",
    "        src_repr = node_reps[src]\n",
    "        dst_repr = node_reps[dst]\n",
    "        edge_scores = torch.sum(src_repr * dst_repr, dim=1)\n",
    "        return edge_scores\n",
    "\n",
    "# Create a DGL graph from the training edge list\n",
    "src_nodes_train, dst_nodes_train = zip(*X_train)\n",
    "g_train = dgl.graph((src_nodes_train, dst_nodes_train))\n",
    "\n",
    "# Define the number of input features (no input features), hidden size, and output features (binary prediction)\n",
    "in_feats = 1\n",
    "hidden_size = 16\n",
    "out_feats = 1\n",
    "\n",
    "# Initialize the model\n",
    "model = EdgePredictionModel(in_feats, hidden_size, out_feats)\n",
    "\n",
    "# Random initialization of node features for training and testing graphs\n",
    "features_train = torch.randn(g_train.num_nodes(), in_feats)\n",
    "\n",
    "# Define loss function and optimizer\n",
    "criterion = nn.BCEWithLogitsLoss()\n",
    "optimizer = torch.optim.Adam(model.parameters(), lr=0.01)\n",
    "\n",
    "# Training loop\n",
    "num_epochs = 10\n",
    "\n",
    "for epoch in range(num_epochs):\n",
    "    model.train()\n",
    "    optimizer.zero_grad()\n",
    "    \n",
    "    # Forward pass for training\n",
    "    edge_scores_train = model(g_train, features_train)\n",
    "    \n",
    "    # Threshold of 0.5 to obtain binary predictions\n",
    "    predictions_train = (torch.sigmoid(edge_scores_train) >= 0.5).float()\n",
    "    \n",
    "    labels_train = torch.tensor(y_train, dtype=torch.float32)\n",
    "    \n",
    "    loss_train = criterion(edge_scores_train, labels_train)\n",
    "    \n",
    "    loss_train.backward()\n",
    "    optimizer.step()\n",
    "\n",
    "    print(f\"Epoch {epoch + 1}/{num_epochs}, Loss: {loss_train.item()}\")"
   ]
  },
  {
   "cell_type": "code",
   "execution_count": 36,
   "id": "37b38a77744e4858",
   "metadata": {
    "ExecuteTime": {
     "end_time": "2023-12-11T04:20:42.195269Z",
     "start_time": "2023-12-11T04:20:42.185877Z"
    }
   },
   "outputs": [
    {
     "name": "stdout",
     "output_type": "stream",
     "text": [
      "Test Accuracy: 0.509228021432824\n"
     ]
    }
   ],
   "source": [
    "# Create a DGL graph from the test edge list\n",
    "src_nodes_test, dst_nodes_test = zip(*X_test)\n",
    "g_test = dgl.graph((src_nodes_test, dst_nodes_test))\n",
    "\n",
    "# Random initialization of node features for the test graph\n",
    "features_test = torch.randn(g_test.num_nodes(), in_feats)\n",
    "\n",
    "# Forward pass for testing\n",
    "model.eval()\n",
    "with torch.no_grad():\n",
    "    edge_scores_test = model(g_test, features_test)\n",
    "\n",
    "# Threshold of 0.5 to obtain binary predictions\n",
    "predictions_test = (torch.sigmoid(edge_scores_test) >= 0.5).float()\n",
    "\n",
    "# Calculate accuracy\n",
    "correct_predictions = torch.sum(predictions_test == torch.tensor(y_test)).item()\n",
    "total_samples = len(y_test)\n",
    "accuracy = correct_predictions / total_samples\n",
    "\n",
    "print(f\"Test Accuracy: {accuracy}\")"
   ]
  }
 ],
 "metadata": {
  "kernelspec": {
   "display_name": "Python 3 (ipykernel)",
   "language": "python",
   "name": "python3"
  },
  "language_info": {
   "codemirror_mode": {
    "name": "ipython",
    "version": 3
   },
   "file_extension": ".py",
   "mimetype": "text/x-python",
   "name": "python",
   "nbconvert_exporter": "python",
   "pygments_lexer": "ipython3",
   "version": "3.7.16"
  }
 },
 "nbformat": 4,
 "nbformat_minor": 5
}
